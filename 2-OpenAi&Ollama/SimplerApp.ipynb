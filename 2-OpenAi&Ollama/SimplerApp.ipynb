{
 "cells": [
  {
   "cell_type": "markdown",
   "id": "6fe347ff",
   "metadata": {},
   "source": [
    "#### Simple Gen AI APP Using Langchain"
   ]
  },
  {
   "cell_type": "code",
   "execution_count": 9,
   "id": "0f667d1b",
   "metadata": {},
   "outputs": [],
   "source": [
    "import os\n",
    "from dotenv import load_dotenv\n",
    "load_dotenv()\n",
    "\n",
    "os.environ['OPENAI_API_KEY'] = os.getenv(\"OPENAI_API_KEY\")\n",
    "# Langsmith Tracking\n",
    "os.environ[\"LANGCHAIN_API_KEY\"] = os.getenv(\"LANGCHAIN_API_KEY\")\n",
    "os.environ[\"LANGCHAIN_TRACKING_V2\"] = \"true\"\n",
    "os.environ[\"LANGCHAIN_PROJECT\"] = os.getenv(\"LANGCHAIN_PROJECT\")"
   ]
  },
  {
   "cell_type": "code",
   "execution_count": 15,
   "id": "ab8fdc6b",
   "metadata": {},
   "outputs": [
    {
     "data": {
      "text/plain": [
       "<langchain_community.document_loaders.web_base.WebBaseLoader at 0x11814f9d0>"
      ]
     },
     "execution_count": 15,
     "metadata": {},
     "output_type": "execute_result"
    }
   ],
   "source": [
    "## Data Ingestion == from the. website we need to scrape the data\n",
    "from langchain_community.document_loaders import WebBaseLoader\n",
    "\n",
    "loader = WebBaseLoader(\"https://docs.smith.langchain.com/self_hosting/installation/docker\")\n",
    "loader\n"
   ]
  },
  {
   "cell_type": "code",
   "execution_count": 16,
   "id": "449292a5",
   "metadata": {},
   "outputs": [
    {
     "data": {
      "text/plain": [
       "[Document(metadata={'source': 'https://docs.smith.langchain.com/self_hosting/installation/docker', 'title': 'Self-hosting LangSmith with Docker | 🦜️🛠️ LangSmith', 'description': 'Self-hosting LangSmith is an add-on to the Enterprise Plan designed for our largest, most security-conscious customers. See our pricing page for more detail, and contact us at sales@langchain.dev if you want to get a license key to trial LangSmith in your environment.', 'language': 'en'}, page_content='\\n\\n\\n\\n\\nSelf-hosting LangSmith with Docker | 🦜️🛠️ LangSmith\\n\\n\\n\\n\\n\\n\\n\\n\\nSkip to main contentOur Building Ambient Agents with LangGraph course is now available on LangChain Academy!API ReferenceRESTPythonJS/TSSearchRegionUSEUGo to AppGet StartedObservabilityEvaluationPrompt EngineeringDeployment (LangGraph Platform)AdministrationSelf-hostingArchitectural overviewScriptsInstallationInstalling on KubernetesInstalling on DockerConfigurationUsageUpgradesEgress for Subscription Metrics and Operational MetadataOrganization ChartsRelease notes (self-hosted)Frequently asked questionsLangSmith-managed ClickHouseTroubleshootingSelf-Hosted ObservabilityPricingReferenceCloud architecture and scalabilityAuthz and AuthnAuthentication methodsdata_formatsEvaluationDataset transformationsRegions FAQsdk_referenceSelf-hostingInstallationInstalling on DockerOn this pageSelf-hosting LangSmith with Docker\\nEnterprise License RequiredSelf-hosting LangSmith is an add-on to the Enterprise Plan designed for our largest, most security-conscious customers. See our pricing page for more detail, and contact us at sales@langchain.dev if you want to get a license key to trial LangSmith in your environment.\\nThis guide provides instructions for installing and setting up your environment to run LangSmith locally using Docker. You can do this either by using the LangSmith SDK or by using Docker Compose directly.\\nPrerequisites\\u200b\\n\\nEnsure Docker is installed and running on your system. You can verify this by running:\\ndocker info\\nIf you don\\'t see any server information in the output, make sure Docker is installed correctly and launch the Docker daemon.\\n\\nRecommended: At least 4 vCPUs, 16GB Memory available on your machine.\\n\\nYou may need to tune resource requests/limits for all of our different services based off of organization size/usage\\n\\n\\nDisk Space: LangSmith can potentially require a lot of disk space. Ensure you have enough disk space available.\\n\\n\\nLangSmith License Key\\n\\nYou can get this from your Langchain representative. Contact us at sales@langchain.dev for more information.\\n\\n\\nApi Key Salt\\n\\nThis is a secret key that you can generate. It should be a random string of characters.\\nYou can generate this using the following command:\\n\\nopenssl rand -base64 32\\n\\nEgress to https://beacon.langchain.com (if not running in offline mode)\\n\\nLangSmith requires egress to https://beacon.langchain.com for license verification and usage reporting. This is required for LangSmith to function properly. You can find more information on egress requirements in the Egress section.\\n\\n\\nConfiguration\\n\\nThere are several configuration options that you can set in the .env file. You can find more information on the available configuration options in the Configuration section.\\n\\n\\n\\nRunning via Docker Compose\\u200b\\nThe following explains how to run the LangSmith using Docker Compose. This is the most flexible way to run LangSmith without Kubernetes. The default configuration for Docker Compose is intended for local testing only and not for instances where any services are exposed to the public internet. In production, we highly recommend using a secured Kubernetes environment.\\n1. Fetch the LangSmith docker-compose.yml file\\u200b\\nYou can find the docker-compose.yml file and related files in the LangSmith SDK repository here: LangSmith Docker Compose File\\nCopy the docker-compose.yml file and all files in that directory from the LangSmith SDK to your project directory.\\n\\nEnsure that you copy the users.xml file as well.\\n\\n2. Configure environment variables\\u200b\\n\\nCopy the .env.example file from the LangSmith SDK to your project directory and rename it to .env.\\nConfigure the appropriate values in the .env file. You can find the available configuration options in the Configuration section.\\n\\nYou can also set these environment variables in the docker-compose.yml file directly or export them in your terminal. We recommend setting them in the .env file.\\n2. Start server\\u200b\\nStart the LangSmith application by executing the following command in your terminal:\\ndocker-compose up\\nYou can also run the server in the background by running:\\ndocker-compose up -d\\nValidate your deployment:\\u200b\\n\\n\\nCurl the exposed port of the cli-langchain-frontend-1 container:\\ncurl localhost:1980/info{\"version\":\"0.5.7\",\"license_expiration_time\":\"2033-05-20T20:08:06\",\"batch_ingest_config\":{\"scale_up_qsize_trigger\":1000,\"scale_up_nthreads_limit\":16,\"scale_down_nempty_trigger\":4,\"size_limit\":100,\"size_limit_bytes\":20971520}}\\n\\n\\nVisit the exposed port of the cli-langchain-frontend-1 container on your browser\\nThe Langsmith UI should be visible/operational at http://localhost:1980\\n\\n\\n\\nChecking the logs\\u200b\\nIf, at any point, you want to check if the server is running and see the logs, run\\ndocker-compose logs\\nStopping the server\\u200b\\ndocker-compose down\\nUsing LangSmith\\u200b\\nNow that LangSmith is running, you can start using it to trace your code. You can find more information on how to use self-hosted LangSmith in the self-hosted usage guide.\\nYour LangSmith instance is now running but may not be fully setup yet.\\nIf you used one of the basic configs, you may have deployed a no-auth configuration.\\nIn this state, there is no authentication or concept of user accounts nor API keys and traces can be submitted directly without an API key so long as the hostname is passed to the LangChain tracer/LangSmith SDK.\\nAs a next step, it is strongly recommended you work with your infrastructure administrators to:\\n\\nSetup DNS for your LangSmith instance to enable easier access\\nConfigure SSL to ensure in-transit encryption of traces submitted to LangSmith\\nConfigure LangSmith for oauth authentication or basic authentication to secure your LangSmith instance\\nSecure access to your Docker environment to limit access to only the LangSmith frontend and API\\nConnect LangSmith to secured Postgres and Redis instances\\nWas this page helpful?You can leave detailed feedback on GitHub.PreviousInstalling on KubernetesNextConfigurationPrerequisitesRunning via Docker Compose1. Fetch the LangSmith docker-compose.yml file2. Configure environment variables2. Start serverValidate your deployment:Checking the logsStopping the serverUsing LangSmithCommunityLangChain ForumTwitterGitHubDocs CodeLangSmith SDKPythonJS/TSMoreHomepageBlogLangChain Python DocsLangChain JS/TS DocsCopyright © 2025 LangChain, Inc.\\n\\n')]"
      ]
     },
     "execution_count": 16,
     "metadata": {},
     "output_type": "execute_result"
    }
   ],
   "source": [
    "docs = loader.load()\n",
    "docs"
   ]
  },
  {
   "cell_type": "code",
   "execution_count": 17,
   "id": "295830ac",
   "metadata": {},
   "outputs": [
    {
     "name": "stdout",
     "output_type": "stream",
     "text": [
      "[Document(metadata={'source': 'https://docs.smith.langchain.com/self_hosting/installation/docker', 'title': 'Self-hosting LangSmith with Docker | 🦜️🛠️ LangSmith', 'description': 'Self-hosting LangSmith is an add-on to the Enterprise Plan designed for our largest, most security-conscious customers. See our pricing page for more detail, and contact us at sales@langchain.dev if you want to get a license key to trial LangSmith in your environment.', 'language': 'en'}, page_content='Self-hosting LangSmith with Docker | 🦜️🛠️ LangSmith'), Document(metadata={'source': 'https://docs.smith.langchain.com/self_hosting/installation/docker', 'title': 'Self-hosting LangSmith with Docker | 🦜️🛠️ LangSmith', 'description': 'Self-hosting LangSmith is an add-on to the Enterprise Plan designed for our largest, most security-conscious customers. See our pricing page for more detail, and contact us at sales@langchain.dev if you want to get a license key to trial LangSmith in your environment.', 'language': 'en'}, page_content='Skip to main contentOur Building Ambient Agents with LangGraph course is now available on LangChain Academy!API ReferenceRESTPythonJS/TSSearchRegionUSEUGo to AppGet'), Document(metadata={'source': 'https://docs.smith.langchain.com/self_hosting/installation/docker', 'title': 'Self-hosting LangSmith with Docker | 🦜️🛠️ LangSmith', 'description': 'Self-hosting LangSmith is an add-on to the Enterprise Plan designed for our largest, most security-conscious customers. See our pricing page for more detail, and contact us at sales@langchain.dev if you want to get a license key to trial LangSmith in your environment.', 'language': 'en'}, page_content='to AppGet StartedObservabilityEvaluationPrompt EngineeringDeployment (LangGraph Platform)AdministrationSelf-hostingArchitectural overviewScriptsInstallationInstalling on KubernetesInstalling on'), Document(metadata={'source': 'https://docs.smith.langchain.com/self_hosting/installation/docker', 'title': 'Self-hosting LangSmith with Docker | 🦜️🛠️ LangSmith', 'description': 'Self-hosting LangSmith is an add-on to the Enterprise Plan designed for our largest, most security-conscious customers. See our pricing page for more detail, and contact us at sales@langchain.dev if you want to get a license key to trial LangSmith in your environment.', 'language': 'en'}, page_content='on KubernetesInstalling on DockerConfigurationUsageUpgradesEgress for Subscription Metrics and Operational MetadataOrganization ChartsRelease notes (self-hosted)Frequently asked'), Document(metadata={'source': 'https://docs.smith.langchain.com/self_hosting/installation/docker', 'title': 'Self-hosting LangSmith with Docker | 🦜️🛠️ LangSmith', 'description': 'Self-hosting LangSmith is an add-on to the Enterprise Plan designed for our largest, most security-conscious customers. See our pricing page for more detail, and contact us at sales@langchain.dev if you want to get a license key to trial LangSmith in your environment.', 'language': 'en'}, page_content='(self-hosted)Frequently asked questionsLangSmith-managed ClickHouseTroubleshootingSelf-Hosted ObservabilityPricingReferenceCloud architecture and scalabilityAuthz and AuthnAuthentication'), Document(metadata={'source': 'https://docs.smith.langchain.com/self_hosting/installation/docker', 'title': 'Self-hosting LangSmith with Docker | 🦜️🛠️ LangSmith', 'description': 'Self-hosting LangSmith is an add-on to the Enterprise Plan designed for our largest, most security-conscious customers. See our pricing page for more detail, and contact us at sales@langchain.dev if you want to get a license key to trial LangSmith in your environment.', 'language': 'en'}, page_content='and AuthnAuthentication methodsdata_formatsEvaluationDataset transformationsRegions FAQsdk_referenceSelf-hostingInstallationInstalling on DockerOn this pageSelf-hosting LangSmith with Docker'), Document(metadata={'source': 'https://docs.smith.langchain.com/self_hosting/installation/docker', 'title': 'Self-hosting LangSmith with Docker | 🦜️🛠️ LangSmith', 'description': 'Self-hosting LangSmith is an add-on to the Enterprise Plan designed for our largest, most security-conscious customers. See our pricing page for more detail, and contact us at sales@langchain.dev if you want to get a license key to trial LangSmith in your environment.', 'language': 'en'}, page_content='Enterprise License RequiredSelf-hosting LangSmith is an add-on to the Enterprise Plan designed for our largest, most security-conscious customers. See our pricing page for more detail, and contact us'), Document(metadata={'source': 'https://docs.smith.langchain.com/self_hosting/installation/docker', 'title': 'Self-hosting LangSmith with Docker | 🦜️🛠️ LangSmith', 'description': 'Self-hosting LangSmith is an add-on to the Enterprise Plan designed for our largest, most security-conscious customers. See our pricing page for more detail, and contact us at sales@langchain.dev if you want to get a license key to trial LangSmith in your environment.', 'language': 'en'}, page_content='more detail, and contact us at sales@langchain.dev if you want to get a license key to trial LangSmith in your environment.'), Document(metadata={'source': 'https://docs.smith.langchain.com/self_hosting/installation/docker', 'title': 'Self-hosting LangSmith with Docker | 🦜️🛠️ LangSmith', 'description': 'Self-hosting LangSmith is an add-on to the Enterprise Plan designed for our largest, most security-conscious customers. See our pricing page for more detail, and contact us at sales@langchain.dev if you want to get a license key to trial LangSmith in your environment.', 'language': 'en'}, page_content='This guide provides instructions for installing and setting up your environment to run LangSmith locally using Docker. You can do this either by using the LangSmith SDK or by using Docker Compose'), Document(metadata={'source': 'https://docs.smith.langchain.com/self_hosting/installation/docker', 'title': 'Self-hosting LangSmith with Docker | 🦜️🛠️ LangSmith', 'description': 'Self-hosting LangSmith is an add-on to the Enterprise Plan designed for our largest, most security-conscious customers. See our pricing page for more detail, and contact us at sales@langchain.dev if you want to get a license key to trial LangSmith in your environment.', 'language': 'en'}, page_content='or by using Docker Compose directly.'), Document(metadata={'source': 'https://docs.smith.langchain.com/self_hosting/installation/docker', 'title': 'Self-hosting LangSmith with Docker | 🦜️🛠️ LangSmith', 'description': 'Self-hosting LangSmith is an add-on to the Enterprise Plan designed for our largest, most security-conscious customers. See our pricing page for more detail, and contact us at sales@langchain.dev if you want to get a license key to trial LangSmith in your environment.', 'language': 'en'}, page_content='Prerequisites\\u200b'), Document(metadata={'source': 'https://docs.smith.langchain.com/self_hosting/installation/docker', 'title': 'Self-hosting LangSmith with Docker | 🦜️🛠️ LangSmith', 'description': 'Self-hosting LangSmith is an add-on to the Enterprise Plan designed for our largest, most security-conscious customers. See our pricing page for more detail, and contact us at sales@langchain.dev if you want to get a license key to trial LangSmith in your environment.', 'language': 'en'}, page_content='Ensure Docker is installed and running on your system. You can verify this by running:\\ndocker info'), Document(metadata={'source': 'https://docs.smith.langchain.com/self_hosting/installation/docker', 'title': 'Self-hosting LangSmith with Docker | 🦜️🛠️ LangSmith', 'description': 'Self-hosting LangSmith is an add-on to the Enterprise Plan designed for our largest, most security-conscious customers. See our pricing page for more detail, and contact us at sales@langchain.dev if you want to get a license key to trial LangSmith in your environment.', 'language': 'en'}, page_content=\"docker info\\nIf you don't see any server information in the output, make sure Docker is installed correctly and launch the Docker daemon.\"), Document(metadata={'source': 'https://docs.smith.langchain.com/self_hosting/installation/docker', 'title': 'Self-hosting LangSmith with Docker | 🦜️🛠️ LangSmith', 'description': 'Self-hosting LangSmith is an add-on to the Enterprise Plan designed for our largest, most security-conscious customers. See our pricing page for more detail, and contact us at sales@langchain.dev if you want to get a license key to trial LangSmith in your environment.', 'language': 'en'}, page_content='Recommended: At least 4 vCPUs, 16GB Memory available on your machine.\\n\\nYou may need to tune resource requests/limits for all of our different services based off of organization size/usage'), Document(metadata={'source': 'https://docs.smith.langchain.com/self_hosting/installation/docker', 'title': 'Self-hosting LangSmith with Docker | 🦜️🛠️ LangSmith', 'description': 'Self-hosting LangSmith is an add-on to the Enterprise Plan designed for our largest, most security-conscious customers. See our pricing page for more detail, and contact us at sales@langchain.dev if you want to get a license key to trial LangSmith in your environment.', 'language': 'en'}, page_content='Disk Space: LangSmith can potentially require a lot of disk space. Ensure you have enough disk space available.\\n\\n\\nLangSmith License Key'), Document(metadata={'source': 'https://docs.smith.langchain.com/self_hosting/installation/docker', 'title': 'Self-hosting LangSmith with Docker | 🦜️🛠️ LangSmith', 'description': 'Self-hosting LangSmith is an add-on to the Enterprise Plan designed for our largest, most security-conscious customers. See our pricing page for more detail, and contact us at sales@langchain.dev if you want to get a license key to trial LangSmith in your environment.', 'language': 'en'}, page_content='LangSmith License Key\\n\\nYou can get this from your Langchain representative. Contact us at sales@langchain.dev for more information.\\n\\n\\nApi Key Salt'), Document(metadata={'source': 'https://docs.smith.langchain.com/self_hosting/installation/docker', 'title': 'Self-hosting LangSmith with Docker | 🦜️🛠️ LangSmith', 'description': 'Self-hosting LangSmith is an add-on to the Enterprise Plan designed for our largest, most security-conscious customers. See our pricing page for more detail, and contact us at sales@langchain.dev if you want to get a license key to trial LangSmith in your environment.', 'language': 'en'}, page_content='Api Key Salt\\n\\nThis is a secret key that you can generate. It should be a random string of characters.\\nYou can generate this using the following command:\\n\\nopenssl rand -base64 32'), Document(metadata={'source': 'https://docs.smith.langchain.com/self_hosting/installation/docker', 'title': 'Self-hosting LangSmith with Docker | 🦜️🛠️ LangSmith', 'description': 'Self-hosting LangSmith is an add-on to the Enterprise Plan designed for our largest, most security-conscious customers. See our pricing page for more detail, and contact us at sales@langchain.dev if you want to get a license key to trial LangSmith in your environment.', 'language': 'en'}, page_content='openssl rand -base64 32\\n\\nEgress to https://beacon.langchain.com (if not running in offline mode)'), Document(metadata={'source': 'https://docs.smith.langchain.com/self_hosting/installation/docker', 'title': 'Self-hosting LangSmith with Docker | 🦜️🛠️ LangSmith', 'description': 'Self-hosting LangSmith is an add-on to the Enterprise Plan designed for our largest, most security-conscious customers. See our pricing page for more detail, and contact us at sales@langchain.dev if you want to get a license key to trial LangSmith in your environment.', 'language': 'en'}, page_content='LangSmith requires egress to https://beacon.langchain.com for license verification and usage reporting. This is required for LangSmith to function properly. You can find more information on egress'), Document(metadata={'source': 'https://docs.smith.langchain.com/self_hosting/installation/docker', 'title': 'Self-hosting LangSmith with Docker | 🦜️🛠️ LangSmith', 'description': 'Self-hosting LangSmith is an add-on to the Enterprise Plan designed for our largest, most security-conscious customers. See our pricing page for more detail, and contact us at sales@langchain.dev if you want to get a license key to trial LangSmith in your environment.', 'language': 'en'}, page_content='more information on egress requirements in the Egress section.'), Document(metadata={'source': 'https://docs.smith.langchain.com/self_hosting/installation/docker', 'title': 'Self-hosting LangSmith with Docker | 🦜️🛠️ LangSmith', 'description': 'Self-hosting LangSmith is an add-on to the Enterprise Plan designed for our largest, most security-conscious customers. See our pricing page for more detail, and contact us at sales@langchain.dev if you want to get a license key to trial LangSmith in your environment.', 'language': 'en'}, page_content='Configuration\\n\\nThere are several configuration options that you can set in the .env file. You can find more information on the available configuration options in the Configuration section.'), Document(metadata={'source': 'https://docs.smith.langchain.com/self_hosting/installation/docker', 'title': 'Self-hosting LangSmith with Docker | 🦜️🛠️ LangSmith', 'description': 'Self-hosting LangSmith is an add-on to the Enterprise Plan designed for our largest, most security-conscious customers. See our pricing page for more detail, and contact us at sales@langchain.dev if you want to get a license key to trial LangSmith in your environment.', 'language': 'en'}, page_content='Running via Docker Compose\\u200b'), Document(metadata={'source': 'https://docs.smith.langchain.com/self_hosting/installation/docker', 'title': 'Self-hosting LangSmith with Docker | 🦜️🛠️ LangSmith', 'description': 'Self-hosting LangSmith is an add-on to the Enterprise Plan designed for our largest, most security-conscious customers. See our pricing page for more detail, and contact us at sales@langchain.dev if you want to get a license key to trial LangSmith in your environment.', 'language': 'en'}, page_content='The following explains how to run the LangSmith using Docker Compose. This is the most flexible way to run LangSmith without Kubernetes. The default configuration for Docker Compose is intended for'), Document(metadata={'source': 'https://docs.smith.langchain.com/self_hosting/installation/docker', 'title': 'Self-hosting LangSmith with Docker | 🦜️🛠️ LangSmith', 'description': 'Self-hosting LangSmith is an add-on to the Enterprise Plan designed for our largest, most security-conscious customers. See our pricing page for more detail, and contact us at sales@langchain.dev if you want to get a license key to trial LangSmith in your environment.', 'language': 'en'}, page_content='Compose is intended for local testing only and not for instances where any services are exposed to the public internet. In production, we highly recommend using a secured Kubernetes environment.'), Document(metadata={'source': 'https://docs.smith.langchain.com/self_hosting/installation/docker', 'title': 'Self-hosting LangSmith with Docker | 🦜️🛠️ LangSmith', 'description': 'Self-hosting LangSmith is an add-on to the Enterprise Plan designed for our largest, most security-conscious customers. See our pricing page for more detail, and contact us at sales@langchain.dev if you want to get a license key to trial LangSmith in your environment.', 'language': 'en'}, page_content='1. Fetch the LangSmith docker-compose.yml file\\u200b\\nYou can find the docker-compose.yml file and related files in the LangSmith SDK repository here: LangSmith Docker Compose File'), Document(metadata={'source': 'https://docs.smith.langchain.com/self_hosting/installation/docker', 'title': 'Self-hosting LangSmith with Docker | 🦜️🛠️ LangSmith', 'description': 'Self-hosting LangSmith is an add-on to the Enterprise Plan designed for our largest, most security-conscious customers. See our pricing page for more detail, and contact us at sales@langchain.dev if you want to get a license key to trial LangSmith in your environment.', 'language': 'en'}, page_content='Copy the docker-compose.yml file and all files in that directory from the LangSmith SDK to your project directory.'), Document(metadata={'source': 'https://docs.smith.langchain.com/self_hosting/installation/docker', 'title': 'Self-hosting LangSmith with Docker | 🦜️🛠️ LangSmith', 'description': 'Self-hosting LangSmith is an add-on to the Enterprise Plan designed for our largest, most security-conscious customers. See our pricing page for more detail, and contact us at sales@langchain.dev if you want to get a license key to trial LangSmith in your environment.', 'language': 'en'}, page_content='Ensure that you copy the users.xml file as well.\\n\\n2. Configure environment variables\\u200b'), Document(metadata={'source': 'https://docs.smith.langchain.com/self_hosting/installation/docker', 'title': 'Self-hosting LangSmith with Docker | 🦜️🛠️ LangSmith', 'description': 'Self-hosting LangSmith is an add-on to the Enterprise Plan designed for our largest, most security-conscious customers. See our pricing page for more detail, and contact us at sales@langchain.dev if you want to get a license key to trial LangSmith in your environment.', 'language': 'en'}, page_content='Copy the .env.example file from the LangSmith SDK to your project directory and rename it to .env.'), Document(metadata={'source': 'https://docs.smith.langchain.com/self_hosting/installation/docker', 'title': 'Self-hosting LangSmith with Docker | 🦜️🛠️ LangSmith', 'description': 'Self-hosting LangSmith is an add-on to the Enterprise Plan designed for our largest, most security-conscious customers. See our pricing page for more detail, and contact us at sales@langchain.dev if you want to get a license key to trial LangSmith in your environment.', 'language': 'en'}, page_content='Configure the appropriate values in the .env file. You can find the available configuration options in the Configuration section.'), Document(metadata={'source': 'https://docs.smith.langchain.com/self_hosting/installation/docker', 'title': 'Self-hosting LangSmith with Docker | 🦜️🛠️ LangSmith', 'description': 'Self-hosting LangSmith is an add-on to the Enterprise Plan designed for our largest, most security-conscious customers. See our pricing page for more detail, and contact us at sales@langchain.dev if you want to get a license key to trial LangSmith in your environment.', 'language': 'en'}, page_content='You can also set these environment variables in the docker-compose.yml file directly or export them in your terminal. We recommend setting them in the .env file.\\n2. Start server\\u200b'), Document(metadata={'source': 'https://docs.smith.langchain.com/self_hosting/installation/docker', 'title': 'Self-hosting LangSmith with Docker | 🦜️🛠️ LangSmith', 'description': 'Self-hosting LangSmith is an add-on to the Enterprise Plan designed for our largest, most security-conscious customers. See our pricing page for more detail, and contact us at sales@langchain.dev if you want to get a license key to trial LangSmith in your environment.', 'language': 'en'}, page_content='2. Start server\\u200b\\nStart the LangSmith application by executing the following command in your terminal:\\ndocker-compose up\\nYou can also run the server in the background by running:\\ndocker-compose up -d'), Document(metadata={'source': 'https://docs.smith.langchain.com/self_hosting/installation/docker', 'title': 'Self-hosting LangSmith with Docker | 🦜️🛠️ LangSmith', 'description': 'Self-hosting LangSmith is an add-on to the Enterprise Plan designed for our largest, most security-conscious customers. See our pricing page for more detail, and contact us at sales@langchain.dev if you want to get a license key to trial LangSmith in your environment.', 'language': 'en'}, page_content='docker-compose up -d\\nValidate your deployment:\\u200b'), Document(metadata={'source': 'https://docs.smith.langchain.com/self_hosting/installation/docker', 'title': 'Self-hosting LangSmith with Docker | 🦜️🛠️ LangSmith', 'description': 'Self-hosting LangSmith is an add-on to the Enterprise Plan designed for our largest, most security-conscious customers. See our pricing page for more detail, and contact us at sales@langchain.dev if you want to get a license key to trial LangSmith in your environment.', 'language': 'en'}, page_content='Curl the exposed port of the cli-langchain-frontend-1 container:'), Document(metadata={'source': 'https://docs.smith.langchain.com/self_hosting/installation/docker', 'title': 'Self-hosting LangSmith with Docker | 🦜️🛠️ LangSmith', 'description': 'Self-hosting LangSmith is an add-on to the Enterprise Plan designed for our largest, most security-conscious customers. See our pricing page for more detail, and contact us at sales@langchain.dev if you want to get a license key to trial LangSmith in your environment.', 'language': 'en'}, page_content='curl'), Document(metadata={'source': 'https://docs.smith.langchain.com/self_hosting/installation/docker', 'title': 'Self-hosting LangSmith with Docker | 🦜️🛠️ LangSmith', 'description': 'Self-hosting LangSmith is an add-on to the Enterprise Plan designed for our largest, most security-conscious customers. See our pricing page for more detail, and contact us at sales@langchain.dev if you want to get a license key to trial LangSmith in your environment.', 'language': 'en'}, page_content='localhost:1980/info{\"version\":\"0.5.7\",\"license_expiration_time\":\"2033-05-20T20:08:06\",\"batch_ingest_config\":{\"scale_up_qsize_trigger\":1000,\"scale_up_nthreads_limit\":16,\"scale_down_nempty_trigger\":4,\"'), Document(metadata={'source': 'https://docs.smith.langchain.com/self_hosting/installation/docker', 'title': 'Self-hosting LangSmith with Docker | 🦜️🛠️ LangSmith', 'description': 'Self-hosting LangSmith is an add-on to the Enterprise Plan designed for our largest, most security-conscious customers. See our pricing page for more detail, and contact us at sales@langchain.dev if you want to get a license key to trial LangSmith in your environment.', 'language': 'en'}, page_content='scale_down_nempty_trigger\":4,\"size_limit\":100,\"size_limit_bytes\":20971520}}'), Document(metadata={'source': 'https://docs.smith.langchain.com/self_hosting/installation/docker', 'title': 'Self-hosting LangSmith with Docker | 🦜️🛠️ LangSmith', 'description': 'Self-hosting LangSmith is an add-on to the Enterprise Plan designed for our largest, most security-conscious customers. See our pricing page for more detail, and contact us at sales@langchain.dev if you want to get a license key to trial LangSmith in your environment.', 'language': 'en'}, page_content='Visit the exposed port of the cli-langchain-frontend-1 container on your browser\\nThe Langsmith UI should be visible/operational at http://localhost:1980'), Document(metadata={'source': 'https://docs.smith.langchain.com/self_hosting/installation/docker', 'title': 'Self-hosting LangSmith with Docker | 🦜️🛠️ LangSmith', 'description': 'Self-hosting LangSmith is an add-on to the Enterprise Plan designed for our largest, most security-conscious customers. See our pricing page for more detail, and contact us at sales@langchain.dev if you want to get a license key to trial LangSmith in your environment.', 'language': 'en'}, page_content='Checking the logs\\u200b\\nIf, at any point, you want to check if the server is running and see the logs, run\\ndocker-compose logs\\nStopping the server\\u200b\\ndocker-compose down\\nUsing LangSmith\\u200b'), Document(metadata={'source': 'https://docs.smith.langchain.com/self_hosting/installation/docker', 'title': 'Self-hosting LangSmith with Docker | 🦜️🛠️ LangSmith', 'description': 'Self-hosting LangSmith is an add-on to the Enterprise Plan designed for our largest, most security-conscious customers. See our pricing page for more detail, and contact us at sales@langchain.dev if you want to get a license key to trial LangSmith in your environment.', 'language': 'en'}, page_content='Using LangSmith\\u200b\\nNow that LangSmith is running, you can start using it to trace your code. You can find more information on how to use self-hosted LangSmith in the self-hosted usage guide.'), Document(metadata={'source': 'https://docs.smith.langchain.com/self_hosting/installation/docker', 'title': 'Self-hosting LangSmith with Docker | 🦜️🛠️ LangSmith', 'description': 'Self-hosting LangSmith is an add-on to the Enterprise Plan designed for our largest, most security-conscious customers. See our pricing page for more detail, and contact us at sales@langchain.dev if you want to get a license key to trial LangSmith in your environment.', 'language': 'en'}, page_content='Your LangSmith instance is now running but may not be fully setup yet.\\nIf you used one of the basic configs, you may have deployed a no-auth configuration.'), Document(metadata={'source': 'https://docs.smith.langchain.com/self_hosting/installation/docker', 'title': 'Self-hosting LangSmith with Docker | 🦜️🛠️ LangSmith', 'description': 'Self-hosting LangSmith is an add-on to the Enterprise Plan designed for our largest, most security-conscious customers. See our pricing page for more detail, and contact us at sales@langchain.dev if you want to get a license key to trial LangSmith in your environment.', 'language': 'en'}, page_content='In this state, there is no authentication or concept of user accounts nor API keys and traces can be submitted directly without an API key so long as the hostname is passed to the LangChain'), Document(metadata={'source': 'https://docs.smith.langchain.com/self_hosting/installation/docker', 'title': 'Self-hosting LangSmith with Docker | 🦜️🛠️ LangSmith', 'description': 'Self-hosting LangSmith is an add-on to the Enterprise Plan designed for our largest, most security-conscious customers. See our pricing page for more detail, and contact us at sales@langchain.dev if you want to get a license key to trial LangSmith in your environment.', 'language': 'en'}, page_content='is passed to the LangChain tracer/LangSmith SDK.'), Document(metadata={'source': 'https://docs.smith.langchain.com/self_hosting/installation/docker', 'title': 'Self-hosting LangSmith with Docker | 🦜️🛠️ LangSmith', 'description': 'Self-hosting LangSmith is an add-on to the Enterprise Plan designed for our largest, most security-conscious customers. See our pricing page for more detail, and contact us at sales@langchain.dev if you want to get a license key to trial LangSmith in your environment.', 'language': 'en'}, page_content='As a next step, it is strongly recommended you work with your infrastructure administrators to:'), Document(metadata={'source': 'https://docs.smith.langchain.com/self_hosting/installation/docker', 'title': 'Self-hosting LangSmith with Docker | 🦜️🛠️ LangSmith', 'description': 'Self-hosting LangSmith is an add-on to the Enterprise Plan designed for our largest, most security-conscious customers. See our pricing page for more detail, and contact us at sales@langchain.dev if you want to get a license key to trial LangSmith in your environment.', 'language': 'en'}, page_content='Setup DNS for your LangSmith instance to enable easier access\\nConfigure SSL to ensure in-transit encryption of traces submitted to LangSmith'), Document(metadata={'source': 'https://docs.smith.langchain.com/self_hosting/installation/docker', 'title': 'Self-hosting LangSmith with Docker | 🦜️🛠️ LangSmith', 'description': 'Self-hosting LangSmith is an add-on to the Enterprise Plan designed for our largest, most security-conscious customers. See our pricing page for more detail, and contact us at sales@langchain.dev if you want to get a license key to trial LangSmith in your environment.', 'language': 'en'}, page_content='Configure LangSmith for oauth authentication or basic authentication to secure your LangSmith instance\\nSecure access to your Docker environment to limit access to only the LangSmith frontend and API'), Document(metadata={'source': 'https://docs.smith.langchain.com/self_hosting/installation/docker', 'title': 'Self-hosting LangSmith with Docker | 🦜️🛠️ LangSmith', 'description': 'Self-hosting LangSmith is an add-on to the Enterprise Plan designed for our largest, most security-conscious customers. See our pricing page for more detail, and contact us at sales@langchain.dev if you want to get a license key to trial LangSmith in your environment.', 'language': 'en'}, page_content='Connect LangSmith to secured Postgres and Redis instances'), Document(metadata={'source': 'https://docs.smith.langchain.com/self_hosting/installation/docker', 'title': 'Self-hosting LangSmith with Docker | 🦜️🛠️ LangSmith', 'description': 'Self-hosting LangSmith is an add-on to the Enterprise Plan designed for our largest, most security-conscious customers. See our pricing page for more detail, and contact us at sales@langchain.dev if you want to get a license key to trial LangSmith in your environment.', 'language': 'en'}, page_content='Was this page helpful?You can leave detailed feedback on GitHub.PreviousInstalling on KubernetesNextConfigurationPrerequisitesRunning via Docker Compose1. Fetch the LangSmith docker-compose.yml'), Document(metadata={'source': 'https://docs.smith.langchain.com/self_hosting/installation/docker', 'title': 'Self-hosting LangSmith with Docker | 🦜️🛠️ LangSmith', 'description': 'Self-hosting LangSmith is an add-on to the Enterprise Plan designed for our largest, most security-conscious customers. See our pricing page for more detail, and contact us at sales@langchain.dev if you want to get a license key to trial LangSmith in your environment.', 'language': 'en'}, page_content='LangSmith docker-compose.yml file2. Configure environment variables2. Start serverValidate your deployment:Checking the logsStopping the serverUsing LangSmithCommunityLangChain ForumTwitterGitHubDocs'), Document(metadata={'source': 'https://docs.smith.langchain.com/self_hosting/installation/docker', 'title': 'Self-hosting LangSmith with Docker | 🦜️🛠️ LangSmith', 'description': 'Self-hosting LangSmith is an add-on to the Enterprise Plan designed for our largest, most security-conscious customers. See our pricing page for more detail, and contact us at sales@langchain.dev if you want to get a license key to trial LangSmith in your environment.', 'language': 'en'}, page_content='ForumTwitterGitHubDocs CodeLangSmith SDKPythonJS/TSMoreHomepageBlogLangChain Python DocsLangChain JS/TS DocsCopyright © 2025 LangChain, Inc.')]\n"
     ]
    }
   ],
   "source": [
    "### Load Data  --> Get all the docs --> Divide out text into chunks --> Convert this into vector by using Vector Embeddings -> store in Vector Store DB\n",
    "from langchain_text_splitters import RecursiveCharacterTextSplitter\n",
    "text_splitter = RecursiveCharacterTextSplitter(chunk_size=200, chunk_overlap=30)\n",
    "documents = text_splitter.split_documents(docs)\n",
    "print(documents)"
   ]
  },
  {
   "cell_type": "code",
   "execution_count": 18,
   "id": "99422e6e",
   "metadata": {},
   "outputs": [
    {
     "data": {
      "text/plain": [
       "[Document(metadata={'source': 'https://docs.smith.langchain.com/self_hosting/installation/docker', 'title': 'Self-hosting LangSmith with Docker | 🦜️🛠️ LangSmith', 'description': 'Self-hosting LangSmith is an add-on to the Enterprise Plan designed for our largest, most security-conscious customers. See our pricing page for more detail, and contact us at sales@langchain.dev if you want to get a license key to trial LangSmith in your environment.', 'language': 'en'}, page_content='Self-hosting LangSmith with Docker | 🦜️🛠️ LangSmith'),\n",
       " Document(metadata={'source': 'https://docs.smith.langchain.com/self_hosting/installation/docker', 'title': 'Self-hosting LangSmith with Docker | 🦜️🛠️ LangSmith', 'description': 'Self-hosting LangSmith is an add-on to the Enterprise Plan designed for our largest, most security-conscious customers. See our pricing page for more detail, and contact us at sales@langchain.dev if you want to get a license key to trial LangSmith in your environment.', 'language': 'en'}, page_content='Skip to main contentOur Building Ambient Agents with LangGraph course is now available on LangChain Academy!API ReferenceRESTPythonJS/TSSearchRegionUSEUGo to AppGet'),\n",
       " Document(metadata={'source': 'https://docs.smith.langchain.com/self_hosting/installation/docker', 'title': 'Self-hosting LangSmith with Docker | 🦜️🛠️ LangSmith', 'description': 'Self-hosting LangSmith is an add-on to the Enterprise Plan designed for our largest, most security-conscious customers. See our pricing page for more detail, and contact us at sales@langchain.dev if you want to get a license key to trial LangSmith in your environment.', 'language': 'en'}, page_content='to AppGet StartedObservabilityEvaluationPrompt EngineeringDeployment (LangGraph Platform)AdministrationSelf-hostingArchitectural overviewScriptsInstallationInstalling on KubernetesInstalling on'),\n",
       " Document(metadata={'source': 'https://docs.smith.langchain.com/self_hosting/installation/docker', 'title': 'Self-hosting LangSmith with Docker | 🦜️🛠️ LangSmith', 'description': 'Self-hosting LangSmith is an add-on to the Enterprise Plan designed for our largest, most security-conscious customers. See our pricing page for more detail, and contact us at sales@langchain.dev if you want to get a license key to trial LangSmith in your environment.', 'language': 'en'}, page_content='on KubernetesInstalling on DockerConfigurationUsageUpgradesEgress for Subscription Metrics and Operational MetadataOrganization ChartsRelease notes (self-hosted)Frequently asked'),\n",
       " Document(metadata={'source': 'https://docs.smith.langchain.com/self_hosting/installation/docker', 'title': 'Self-hosting LangSmith with Docker | 🦜️🛠️ LangSmith', 'description': 'Self-hosting LangSmith is an add-on to the Enterprise Plan designed for our largest, most security-conscious customers. See our pricing page for more detail, and contact us at sales@langchain.dev if you want to get a license key to trial LangSmith in your environment.', 'language': 'en'}, page_content='(self-hosted)Frequently asked questionsLangSmith-managed ClickHouseTroubleshootingSelf-Hosted ObservabilityPricingReferenceCloud architecture and scalabilityAuthz and AuthnAuthentication'),\n",
       " Document(metadata={'source': 'https://docs.smith.langchain.com/self_hosting/installation/docker', 'title': 'Self-hosting LangSmith with Docker | 🦜️🛠️ LangSmith', 'description': 'Self-hosting LangSmith is an add-on to the Enterprise Plan designed for our largest, most security-conscious customers. See our pricing page for more detail, and contact us at sales@langchain.dev if you want to get a license key to trial LangSmith in your environment.', 'language': 'en'}, page_content='and AuthnAuthentication methodsdata_formatsEvaluationDataset transformationsRegions FAQsdk_referenceSelf-hostingInstallationInstalling on DockerOn this pageSelf-hosting LangSmith with Docker'),\n",
       " Document(metadata={'source': 'https://docs.smith.langchain.com/self_hosting/installation/docker', 'title': 'Self-hosting LangSmith with Docker | 🦜️🛠️ LangSmith', 'description': 'Self-hosting LangSmith is an add-on to the Enterprise Plan designed for our largest, most security-conscious customers. See our pricing page for more detail, and contact us at sales@langchain.dev if you want to get a license key to trial LangSmith in your environment.', 'language': 'en'}, page_content='Enterprise License RequiredSelf-hosting LangSmith is an add-on to the Enterprise Plan designed for our largest, most security-conscious customers. See our pricing page for more detail, and contact us'),\n",
       " Document(metadata={'source': 'https://docs.smith.langchain.com/self_hosting/installation/docker', 'title': 'Self-hosting LangSmith with Docker | 🦜️🛠️ LangSmith', 'description': 'Self-hosting LangSmith is an add-on to the Enterprise Plan designed for our largest, most security-conscious customers. See our pricing page for more detail, and contact us at sales@langchain.dev if you want to get a license key to trial LangSmith in your environment.', 'language': 'en'}, page_content='more detail, and contact us at sales@langchain.dev if you want to get a license key to trial LangSmith in your environment.'),\n",
       " Document(metadata={'source': 'https://docs.smith.langchain.com/self_hosting/installation/docker', 'title': 'Self-hosting LangSmith with Docker | 🦜️🛠️ LangSmith', 'description': 'Self-hosting LangSmith is an add-on to the Enterprise Plan designed for our largest, most security-conscious customers. See our pricing page for more detail, and contact us at sales@langchain.dev if you want to get a license key to trial LangSmith in your environment.', 'language': 'en'}, page_content='This guide provides instructions for installing and setting up your environment to run LangSmith locally using Docker. You can do this either by using the LangSmith SDK or by using Docker Compose'),\n",
       " Document(metadata={'source': 'https://docs.smith.langchain.com/self_hosting/installation/docker', 'title': 'Self-hosting LangSmith with Docker | 🦜️🛠️ LangSmith', 'description': 'Self-hosting LangSmith is an add-on to the Enterprise Plan designed for our largest, most security-conscious customers. See our pricing page for more detail, and contact us at sales@langchain.dev if you want to get a license key to trial LangSmith in your environment.', 'language': 'en'}, page_content='or by using Docker Compose directly.'),\n",
       " Document(metadata={'source': 'https://docs.smith.langchain.com/self_hosting/installation/docker', 'title': 'Self-hosting LangSmith with Docker | 🦜️🛠️ LangSmith', 'description': 'Self-hosting LangSmith is an add-on to the Enterprise Plan designed for our largest, most security-conscious customers. See our pricing page for more detail, and contact us at sales@langchain.dev if you want to get a license key to trial LangSmith in your environment.', 'language': 'en'}, page_content='Prerequisites\\u200b'),\n",
       " Document(metadata={'source': 'https://docs.smith.langchain.com/self_hosting/installation/docker', 'title': 'Self-hosting LangSmith with Docker | 🦜️🛠️ LangSmith', 'description': 'Self-hosting LangSmith is an add-on to the Enterprise Plan designed for our largest, most security-conscious customers. See our pricing page for more detail, and contact us at sales@langchain.dev if you want to get a license key to trial LangSmith in your environment.', 'language': 'en'}, page_content='Ensure Docker is installed and running on your system. You can verify this by running:\\ndocker info'),\n",
       " Document(metadata={'source': 'https://docs.smith.langchain.com/self_hosting/installation/docker', 'title': 'Self-hosting LangSmith with Docker | 🦜️🛠️ LangSmith', 'description': 'Self-hosting LangSmith is an add-on to the Enterprise Plan designed for our largest, most security-conscious customers. See our pricing page for more detail, and contact us at sales@langchain.dev if you want to get a license key to trial LangSmith in your environment.', 'language': 'en'}, page_content=\"docker info\\nIf you don't see any server information in the output, make sure Docker is installed correctly and launch the Docker daemon.\"),\n",
       " Document(metadata={'source': 'https://docs.smith.langchain.com/self_hosting/installation/docker', 'title': 'Self-hosting LangSmith with Docker | 🦜️🛠️ LangSmith', 'description': 'Self-hosting LangSmith is an add-on to the Enterprise Plan designed for our largest, most security-conscious customers. See our pricing page for more detail, and contact us at sales@langchain.dev if you want to get a license key to trial LangSmith in your environment.', 'language': 'en'}, page_content='Recommended: At least 4 vCPUs, 16GB Memory available on your machine.\\n\\nYou may need to tune resource requests/limits for all of our different services based off of organization size/usage'),\n",
       " Document(metadata={'source': 'https://docs.smith.langchain.com/self_hosting/installation/docker', 'title': 'Self-hosting LangSmith with Docker | 🦜️🛠️ LangSmith', 'description': 'Self-hosting LangSmith is an add-on to the Enterprise Plan designed for our largest, most security-conscious customers. See our pricing page for more detail, and contact us at sales@langchain.dev if you want to get a license key to trial LangSmith in your environment.', 'language': 'en'}, page_content='Disk Space: LangSmith can potentially require a lot of disk space. Ensure you have enough disk space available.\\n\\n\\nLangSmith License Key'),\n",
       " Document(metadata={'source': 'https://docs.smith.langchain.com/self_hosting/installation/docker', 'title': 'Self-hosting LangSmith with Docker | 🦜️🛠️ LangSmith', 'description': 'Self-hosting LangSmith is an add-on to the Enterprise Plan designed for our largest, most security-conscious customers. See our pricing page for more detail, and contact us at sales@langchain.dev if you want to get a license key to trial LangSmith in your environment.', 'language': 'en'}, page_content='LangSmith License Key\\n\\nYou can get this from your Langchain representative. Contact us at sales@langchain.dev for more information.\\n\\n\\nApi Key Salt'),\n",
       " Document(metadata={'source': 'https://docs.smith.langchain.com/self_hosting/installation/docker', 'title': 'Self-hosting LangSmith with Docker | 🦜️🛠️ LangSmith', 'description': 'Self-hosting LangSmith is an add-on to the Enterprise Plan designed for our largest, most security-conscious customers. See our pricing page for more detail, and contact us at sales@langchain.dev if you want to get a license key to trial LangSmith in your environment.', 'language': 'en'}, page_content='Api Key Salt\\n\\nThis is a secret key that you can generate. It should be a random string of characters.\\nYou can generate this using the following command:\\n\\nopenssl rand -base64 32'),\n",
       " Document(metadata={'source': 'https://docs.smith.langchain.com/self_hosting/installation/docker', 'title': 'Self-hosting LangSmith with Docker | 🦜️🛠️ LangSmith', 'description': 'Self-hosting LangSmith is an add-on to the Enterprise Plan designed for our largest, most security-conscious customers. See our pricing page for more detail, and contact us at sales@langchain.dev if you want to get a license key to trial LangSmith in your environment.', 'language': 'en'}, page_content='openssl rand -base64 32\\n\\nEgress to https://beacon.langchain.com (if not running in offline mode)'),\n",
       " Document(metadata={'source': 'https://docs.smith.langchain.com/self_hosting/installation/docker', 'title': 'Self-hosting LangSmith with Docker | 🦜️🛠️ LangSmith', 'description': 'Self-hosting LangSmith is an add-on to the Enterprise Plan designed for our largest, most security-conscious customers. See our pricing page for more detail, and contact us at sales@langchain.dev if you want to get a license key to trial LangSmith in your environment.', 'language': 'en'}, page_content='LangSmith requires egress to https://beacon.langchain.com for license verification and usage reporting. This is required for LangSmith to function properly. You can find more information on egress'),\n",
       " Document(metadata={'source': 'https://docs.smith.langchain.com/self_hosting/installation/docker', 'title': 'Self-hosting LangSmith with Docker | 🦜️🛠️ LangSmith', 'description': 'Self-hosting LangSmith is an add-on to the Enterprise Plan designed for our largest, most security-conscious customers. See our pricing page for more detail, and contact us at sales@langchain.dev if you want to get a license key to trial LangSmith in your environment.', 'language': 'en'}, page_content='more information on egress requirements in the Egress section.'),\n",
       " Document(metadata={'source': 'https://docs.smith.langchain.com/self_hosting/installation/docker', 'title': 'Self-hosting LangSmith with Docker | 🦜️🛠️ LangSmith', 'description': 'Self-hosting LangSmith is an add-on to the Enterprise Plan designed for our largest, most security-conscious customers. See our pricing page for more detail, and contact us at sales@langchain.dev if you want to get a license key to trial LangSmith in your environment.', 'language': 'en'}, page_content='Configuration\\n\\nThere are several configuration options that you can set in the .env file. You can find more information on the available configuration options in the Configuration section.'),\n",
       " Document(metadata={'source': 'https://docs.smith.langchain.com/self_hosting/installation/docker', 'title': 'Self-hosting LangSmith with Docker | 🦜️🛠️ LangSmith', 'description': 'Self-hosting LangSmith is an add-on to the Enterprise Plan designed for our largest, most security-conscious customers. See our pricing page for more detail, and contact us at sales@langchain.dev if you want to get a license key to trial LangSmith in your environment.', 'language': 'en'}, page_content='Running via Docker Compose\\u200b'),\n",
       " Document(metadata={'source': 'https://docs.smith.langchain.com/self_hosting/installation/docker', 'title': 'Self-hosting LangSmith with Docker | 🦜️🛠️ LangSmith', 'description': 'Self-hosting LangSmith is an add-on to the Enterprise Plan designed for our largest, most security-conscious customers. See our pricing page for more detail, and contact us at sales@langchain.dev if you want to get a license key to trial LangSmith in your environment.', 'language': 'en'}, page_content='The following explains how to run the LangSmith using Docker Compose. This is the most flexible way to run LangSmith without Kubernetes. The default configuration for Docker Compose is intended for'),\n",
       " Document(metadata={'source': 'https://docs.smith.langchain.com/self_hosting/installation/docker', 'title': 'Self-hosting LangSmith with Docker | 🦜️🛠️ LangSmith', 'description': 'Self-hosting LangSmith is an add-on to the Enterprise Plan designed for our largest, most security-conscious customers. See our pricing page for more detail, and contact us at sales@langchain.dev if you want to get a license key to trial LangSmith in your environment.', 'language': 'en'}, page_content='Compose is intended for local testing only and not for instances where any services are exposed to the public internet. In production, we highly recommend using a secured Kubernetes environment.'),\n",
       " Document(metadata={'source': 'https://docs.smith.langchain.com/self_hosting/installation/docker', 'title': 'Self-hosting LangSmith with Docker | 🦜️🛠️ LangSmith', 'description': 'Self-hosting LangSmith is an add-on to the Enterprise Plan designed for our largest, most security-conscious customers. See our pricing page for more detail, and contact us at sales@langchain.dev if you want to get a license key to trial LangSmith in your environment.', 'language': 'en'}, page_content='1. Fetch the LangSmith docker-compose.yml file\\u200b\\nYou can find the docker-compose.yml file and related files in the LangSmith SDK repository here: LangSmith Docker Compose File'),\n",
       " Document(metadata={'source': 'https://docs.smith.langchain.com/self_hosting/installation/docker', 'title': 'Self-hosting LangSmith with Docker | 🦜️🛠️ LangSmith', 'description': 'Self-hosting LangSmith is an add-on to the Enterprise Plan designed for our largest, most security-conscious customers. See our pricing page for more detail, and contact us at sales@langchain.dev if you want to get a license key to trial LangSmith in your environment.', 'language': 'en'}, page_content='Copy the docker-compose.yml file and all files in that directory from the LangSmith SDK to your project directory.'),\n",
       " Document(metadata={'source': 'https://docs.smith.langchain.com/self_hosting/installation/docker', 'title': 'Self-hosting LangSmith with Docker | 🦜️🛠️ LangSmith', 'description': 'Self-hosting LangSmith is an add-on to the Enterprise Plan designed for our largest, most security-conscious customers. See our pricing page for more detail, and contact us at sales@langchain.dev if you want to get a license key to trial LangSmith in your environment.', 'language': 'en'}, page_content='Ensure that you copy the users.xml file as well.\\n\\n2. Configure environment variables\\u200b'),\n",
       " Document(metadata={'source': 'https://docs.smith.langchain.com/self_hosting/installation/docker', 'title': 'Self-hosting LangSmith with Docker | 🦜️🛠️ LangSmith', 'description': 'Self-hosting LangSmith is an add-on to the Enterprise Plan designed for our largest, most security-conscious customers. See our pricing page for more detail, and contact us at sales@langchain.dev if you want to get a license key to trial LangSmith in your environment.', 'language': 'en'}, page_content='Copy the .env.example file from the LangSmith SDK to your project directory and rename it to .env.'),\n",
       " Document(metadata={'source': 'https://docs.smith.langchain.com/self_hosting/installation/docker', 'title': 'Self-hosting LangSmith with Docker | 🦜️🛠️ LangSmith', 'description': 'Self-hosting LangSmith is an add-on to the Enterprise Plan designed for our largest, most security-conscious customers. See our pricing page for more detail, and contact us at sales@langchain.dev if you want to get a license key to trial LangSmith in your environment.', 'language': 'en'}, page_content='Configure the appropriate values in the .env file. You can find the available configuration options in the Configuration section.'),\n",
       " Document(metadata={'source': 'https://docs.smith.langchain.com/self_hosting/installation/docker', 'title': 'Self-hosting LangSmith with Docker | 🦜️🛠️ LangSmith', 'description': 'Self-hosting LangSmith is an add-on to the Enterprise Plan designed for our largest, most security-conscious customers. See our pricing page for more detail, and contact us at sales@langchain.dev if you want to get a license key to trial LangSmith in your environment.', 'language': 'en'}, page_content='You can also set these environment variables in the docker-compose.yml file directly or export them in your terminal. We recommend setting them in the .env file.\\n2. Start server\\u200b'),\n",
       " Document(metadata={'source': 'https://docs.smith.langchain.com/self_hosting/installation/docker', 'title': 'Self-hosting LangSmith with Docker | 🦜️🛠️ LangSmith', 'description': 'Self-hosting LangSmith is an add-on to the Enterprise Plan designed for our largest, most security-conscious customers. See our pricing page for more detail, and contact us at sales@langchain.dev if you want to get a license key to trial LangSmith in your environment.', 'language': 'en'}, page_content='2. Start server\\u200b\\nStart the LangSmith application by executing the following command in your terminal:\\ndocker-compose up\\nYou can also run the server in the background by running:\\ndocker-compose up -d'),\n",
       " Document(metadata={'source': 'https://docs.smith.langchain.com/self_hosting/installation/docker', 'title': 'Self-hosting LangSmith with Docker | 🦜️🛠️ LangSmith', 'description': 'Self-hosting LangSmith is an add-on to the Enterprise Plan designed for our largest, most security-conscious customers. See our pricing page for more detail, and contact us at sales@langchain.dev if you want to get a license key to trial LangSmith in your environment.', 'language': 'en'}, page_content='docker-compose up -d\\nValidate your deployment:\\u200b'),\n",
       " Document(metadata={'source': 'https://docs.smith.langchain.com/self_hosting/installation/docker', 'title': 'Self-hosting LangSmith with Docker | 🦜️🛠️ LangSmith', 'description': 'Self-hosting LangSmith is an add-on to the Enterprise Plan designed for our largest, most security-conscious customers. See our pricing page for more detail, and contact us at sales@langchain.dev if you want to get a license key to trial LangSmith in your environment.', 'language': 'en'}, page_content='Curl the exposed port of the cli-langchain-frontend-1 container:'),\n",
       " Document(metadata={'source': 'https://docs.smith.langchain.com/self_hosting/installation/docker', 'title': 'Self-hosting LangSmith with Docker | 🦜️🛠️ LangSmith', 'description': 'Self-hosting LangSmith is an add-on to the Enterprise Plan designed for our largest, most security-conscious customers. See our pricing page for more detail, and contact us at sales@langchain.dev if you want to get a license key to trial LangSmith in your environment.', 'language': 'en'}, page_content='curl'),\n",
       " Document(metadata={'source': 'https://docs.smith.langchain.com/self_hosting/installation/docker', 'title': 'Self-hosting LangSmith with Docker | 🦜️🛠️ LangSmith', 'description': 'Self-hosting LangSmith is an add-on to the Enterprise Plan designed for our largest, most security-conscious customers. See our pricing page for more detail, and contact us at sales@langchain.dev if you want to get a license key to trial LangSmith in your environment.', 'language': 'en'}, page_content='localhost:1980/info{\"version\":\"0.5.7\",\"license_expiration_time\":\"2033-05-20T20:08:06\",\"batch_ingest_config\":{\"scale_up_qsize_trigger\":1000,\"scale_up_nthreads_limit\":16,\"scale_down_nempty_trigger\":4,\"'),\n",
       " Document(metadata={'source': 'https://docs.smith.langchain.com/self_hosting/installation/docker', 'title': 'Self-hosting LangSmith with Docker | 🦜️🛠️ LangSmith', 'description': 'Self-hosting LangSmith is an add-on to the Enterprise Plan designed for our largest, most security-conscious customers. See our pricing page for more detail, and contact us at sales@langchain.dev if you want to get a license key to trial LangSmith in your environment.', 'language': 'en'}, page_content='scale_down_nempty_trigger\":4,\"size_limit\":100,\"size_limit_bytes\":20971520}}'),\n",
       " Document(metadata={'source': 'https://docs.smith.langchain.com/self_hosting/installation/docker', 'title': 'Self-hosting LangSmith with Docker | 🦜️🛠️ LangSmith', 'description': 'Self-hosting LangSmith is an add-on to the Enterprise Plan designed for our largest, most security-conscious customers. See our pricing page for more detail, and contact us at sales@langchain.dev if you want to get a license key to trial LangSmith in your environment.', 'language': 'en'}, page_content='Visit the exposed port of the cli-langchain-frontend-1 container on your browser\\nThe Langsmith UI should be visible/operational at http://localhost:1980'),\n",
       " Document(metadata={'source': 'https://docs.smith.langchain.com/self_hosting/installation/docker', 'title': 'Self-hosting LangSmith with Docker | 🦜️🛠️ LangSmith', 'description': 'Self-hosting LangSmith is an add-on to the Enterprise Plan designed for our largest, most security-conscious customers. See our pricing page for more detail, and contact us at sales@langchain.dev if you want to get a license key to trial LangSmith in your environment.', 'language': 'en'}, page_content='Checking the logs\\u200b\\nIf, at any point, you want to check if the server is running and see the logs, run\\ndocker-compose logs\\nStopping the server\\u200b\\ndocker-compose down\\nUsing LangSmith\\u200b'),\n",
       " Document(metadata={'source': 'https://docs.smith.langchain.com/self_hosting/installation/docker', 'title': 'Self-hosting LangSmith with Docker | 🦜️🛠️ LangSmith', 'description': 'Self-hosting LangSmith is an add-on to the Enterprise Plan designed for our largest, most security-conscious customers. See our pricing page for more detail, and contact us at sales@langchain.dev if you want to get a license key to trial LangSmith in your environment.', 'language': 'en'}, page_content='Using LangSmith\\u200b\\nNow that LangSmith is running, you can start using it to trace your code. You can find more information on how to use self-hosted LangSmith in the self-hosted usage guide.'),\n",
       " Document(metadata={'source': 'https://docs.smith.langchain.com/self_hosting/installation/docker', 'title': 'Self-hosting LangSmith with Docker | 🦜️🛠️ LangSmith', 'description': 'Self-hosting LangSmith is an add-on to the Enterprise Plan designed for our largest, most security-conscious customers. See our pricing page for more detail, and contact us at sales@langchain.dev if you want to get a license key to trial LangSmith in your environment.', 'language': 'en'}, page_content='Your LangSmith instance is now running but may not be fully setup yet.\\nIf you used one of the basic configs, you may have deployed a no-auth configuration.'),\n",
       " Document(metadata={'source': 'https://docs.smith.langchain.com/self_hosting/installation/docker', 'title': 'Self-hosting LangSmith with Docker | 🦜️🛠️ LangSmith', 'description': 'Self-hosting LangSmith is an add-on to the Enterprise Plan designed for our largest, most security-conscious customers. See our pricing page for more detail, and contact us at sales@langchain.dev if you want to get a license key to trial LangSmith in your environment.', 'language': 'en'}, page_content='In this state, there is no authentication or concept of user accounts nor API keys and traces can be submitted directly without an API key so long as the hostname is passed to the LangChain'),\n",
       " Document(metadata={'source': 'https://docs.smith.langchain.com/self_hosting/installation/docker', 'title': 'Self-hosting LangSmith with Docker | 🦜️🛠️ LangSmith', 'description': 'Self-hosting LangSmith is an add-on to the Enterprise Plan designed for our largest, most security-conscious customers. See our pricing page for more detail, and contact us at sales@langchain.dev if you want to get a license key to trial LangSmith in your environment.', 'language': 'en'}, page_content='is passed to the LangChain tracer/LangSmith SDK.'),\n",
       " Document(metadata={'source': 'https://docs.smith.langchain.com/self_hosting/installation/docker', 'title': 'Self-hosting LangSmith with Docker | 🦜️🛠️ LangSmith', 'description': 'Self-hosting LangSmith is an add-on to the Enterprise Plan designed for our largest, most security-conscious customers. See our pricing page for more detail, and contact us at sales@langchain.dev if you want to get a license key to trial LangSmith in your environment.', 'language': 'en'}, page_content='As a next step, it is strongly recommended you work with your infrastructure administrators to:'),\n",
       " Document(metadata={'source': 'https://docs.smith.langchain.com/self_hosting/installation/docker', 'title': 'Self-hosting LangSmith with Docker | 🦜️🛠️ LangSmith', 'description': 'Self-hosting LangSmith is an add-on to the Enterprise Plan designed for our largest, most security-conscious customers. See our pricing page for more detail, and contact us at sales@langchain.dev if you want to get a license key to trial LangSmith in your environment.', 'language': 'en'}, page_content='Setup DNS for your LangSmith instance to enable easier access\\nConfigure SSL to ensure in-transit encryption of traces submitted to LangSmith'),\n",
       " Document(metadata={'source': 'https://docs.smith.langchain.com/self_hosting/installation/docker', 'title': 'Self-hosting LangSmith with Docker | 🦜️🛠️ LangSmith', 'description': 'Self-hosting LangSmith is an add-on to the Enterprise Plan designed for our largest, most security-conscious customers. See our pricing page for more detail, and contact us at sales@langchain.dev if you want to get a license key to trial LangSmith in your environment.', 'language': 'en'}, page_content='Configure LangSmith for oauth authentication or basic authentication to secure your LangSmith instance\\nSecure access to your Docker environment to limit access to only the LangSmith frontend and API'),\n",
       " Document(metadata={'source': 'https://docs.smith.langchain.com/self_hosting/installation/docker', 'title': 'Self-hosting LangSmith with Docker | 🦜️🛠️ LangSmith', 'description': 'Self-hosting LangSmith is an add-on to the Enterprise Plan designed for our largest, most security-conscious customers. See our pricing page for more detail, and contact us at sales@langchain.dev if you want to get a license key to trial LangSmith in your environment.', 'language': 'en'}, page_content='Connect LangSmith to secured Postgres and Redis instances'),\n",
       " Document(metadata={'source': 'https://docs.smith.langchain.com/self_hosting/installation/docker', 'title': 'Self-hosting LangSmith with Docker | 🦜️🛠️ LangSmith', 'description': 'Self-hosting LangSmith is an add-on to the Enterprise Plan designed for our largest, most security-conscious customers. See our pricing page for more detail, and contact us at sales@langchain.dev if you want to get a license key to trial LangSmith in your environment.', 'language': 'en'}, page_content='Was this page helpful?You can leave detailed feedback on GitHub.PreviousInstalling on KubernetesNextConfigurationPrerequisitesRunning via Docker Compose1. Fetch the LangSmith docker-compose.yml'),\n",
       " Document(metadata={'source': 'https://docs.smith.langchain.com/self_hosting/installation/docker', 'title': 'Self-hosting LangSmith with Docker | 🦜️🛠️ LangSmith', 'description': 'Self-hosting LangSmith is an add-on to the Enterprise Plan designed for our largest, most security-conscious customers. See our pricing page for more detail, and contact us at sales@langchain.dev if you want to get a license key to trial LangSmith in your environment.', 'language': 'en'}, page_content='LangSmith docker-compose.yml file2. Configure environment variables2. Start serverValidate your deployment:Checking the logsStopping the serverUsing LangSmithCommunityLangChain ForumTwitterGitHubDocs'),\n",
       " Document(metadata={'source': 'https://docs.smith.langchain.com/self_hosting/installation/docker', 'title': 'Self-hosting LangSmith with Docker | 🦜️🛠️ LangSmith', 'description': 'Self-hosting LangSmith is an add-on to the Enterprise Plan designed for our largest, most security-conscious customers. See our pricing page for more detail, and contact us at sales@langchain.dev if you want to get a license key to trial LangSmith in your environment.', 'language': 'en'}, page_content='ForumTwitterGitHubDocs CodeLangSmith SDKPythonJS/TSMoreHomepageBlogLangChain Python DocsLangChain JS/TS DocsCopyright © 2025 LangChain, Inc.')]"
      ]
     },
     "execution_count": 18,
     "metadata": {},
     "output_type": "execute_result"
    }
   ],
   "source": [
    "documents"
   ]
  },
  {
   "cell_type": "code",
   "execution_count": 19,
   "id": "ed391d7a",
   "metadata": {},
   "outputs": [],
   "source": [
    "from langchain_openai import OpenAIEmbeddings\n",
    "embeddings = OpenAIEmbeddings()"
   ]
  },
  {
   "cell_type": "code",
   "execution_count": 20,
   "id": "c18cdb36",
   "metadata": {},
   "outputs": [],
   "source": [
    "from langchain_community.vectorstores import FAISS\n",
    "vectorstoredb = FAISS.from_documents(documents, embeddings)"
   ]
  },
  {
   "cell_type": "code",
   "execution_count": 21,
   "id": "ab62c7a9",
   "metadata": {},
   "outputs": [
    {
     "data": {
      "text/plain": [
       "<langchain_community.vectorstores.faiss.FAISS at 0x1182f0910>"
      ]
     },
     "execution_count": 21,
     "metadata": {},
     "output_type": "execute_result"
    }
   ],
   "source": [
    "vectorstoredb"
   ]
  },
  {
   "cell_type": "code",
   "execution_count": null,
   "id": "9db53c94",
   "metadata": {},
   "outputs": [
    {
     "data": {
      "text/plain": [
       "\"docker info\\nIf you don't see any server information in the output, make sure Docker is installed correctly and launch the Docker daemon.\""
      ]
     },
     "execution_count": 24,
     "metadata": {},
     "output_type": "execute_result"
    }
   ],
   "source": [
    "## Query from a vector DB\n",
    "query = \"What to do if we don't see any server information in the output?\"\n",
    "result = vectorstoredb.similarity_search(query)\n",
    "result[0].page_content"
   ]
  },
  {
   "cell_type": "code",
   "execution_count": 25,
   "id": "a33f04d8",
   "metadata": {},
   "outputs": [],
   "source": [
    "from langchain_openai import ChatOpenAI\n",
    "llm = ChatOpenAI(model=\"gpt-4o\")"
   ]
  },
  {
   "cell_type": "code",
   "execution_count": 29,
   "id": "182847d7",
   "metadata": {},
   "outputs": [
    {
     "data": {
      "text/plain": [
       "RunnableBinding(bound=RunnableBinding(bound=RunnableAssign(mapper={\n",
       "  context: RunnableLambda(format_docs)\n",
       "}), kwargs={}, config={'run_name': 'format_inputs'}, config_factories=[])\n",
       "| ChatPromptTemplate(input_variables=['context'], input_types={}, partial_variables={}, messages=[HumanMessagePromptTemplate(prompt=PromptTemplate(input_variables=['context'], input_types={}, partial_variables={}, template='\\nAnswer the following question based only on the provided context:\\n<context>\\n{context}\\n</context>\\n\\n\\n'), additional_kwargs={})])\n",
       "| ChatOpenAI(client=<openai.resources.chat.completions.completions.Completions object at 0x11b238830>, async_client=<openai.resources.chat.completions.completions.AsyncCompletions object at 0x11b23b230>, root_client=<openai.OpenAI object at 0x11b620550>, root_async_client=<openai.AsyncOpenAI object at 0x11b620b90>, model_name='gpt-4o', model_kwargs={}, openai_api_key=SecretStr('**********'))\n",
       "| StrOutputParser(), kwargs={}, config={'run_name': 'stuff_documents_chain'}, config_factories=[])"
      ]
     },
     "execution_count": 29,
     "metadata": {},
     "output_type": "execute_result"
    }
   ],
   "source": [
    "## Retrieval Chain, Document Chain\n",
    "from langchain.chains.combine_documents import create_stuff_documents_chain\n",
    "from langchain_core.prompts import ChatPromptTemplate\n",
    "\n",
    "prompt=ChatPromptTemplate.from_template(\n",
    "    \"\"\"\n",
    "Answer the following question based only on the provided context:\n",
    "<context>\n",
    "{context}\n",
    "</context>\n",
    "\n",
    "\n",
    "\"\"\"\n",
    ")\n",
    "\n",
    "document_chain=create_stuff_documents_chain(llm,prompt)\n",
    "document_chain\n"
   ]
  },
  {
   "cell_type": "code",
   "execution_count": 30,
   "id": "2341ba0e",
   "metadata": {},
   "outputs": [
    {
     "data": {
      "text/plain": [
       "\"If you don't see any server information in the output, ensure Docker is installed properly, launch the Docker daemon, and consult Aakash Kumar Jha for further help.\""
      ]
     },
     "execution_count": 30,
     "metadata": {},
     "output_type": "execute_result"
    }
   ],
   "source": [
    "from langchain_core.documents import Document\n",
    "document_chain.invoke({\"input\":\"What to do if we don't see any server information in the output?\",\n",
    "                       \"context\":[Document(page_content=\"If you don't see any server information in the output, make sure Docker is installed correctly and launch the Docker daemon. And consult with Aakash kumar jha fr further Help\")]})"
   ]
  },
  {
   "cell_type": "markdown",
   "id": "649cf62e",
   "metadata": {},
   "source": [
    "However, we want the documents to first come from the retriever we just set up. That way, we can use the retriever to dynamically select the most relevant documents and pass those in for a given question."
   ]
  },
  {
   "cell_type": "code",
   "execution_count": 31,
   "id": "f9792b8c",
   "metadata": {},
   "outputs": [
    {
     "data": {
      "text/plain": [
       "<langchain_community.vectorstores.faiss.FAISS at 0x1182f0910>"
      ]
     },
     "execution_count": 31,
     "metadata": {},
     "output_type": "execute_result"
    }
   ],
   "source": [
    "## Input --->>>Retriever-  it can be consider as an interface, and it responsibility is ---> VectorstoreDb\n",
    "## so retrievr is a kinf of an interface for the vector db\n",
    "vectorstoredb\n",
    " "
   ]
  },
  {
   "cell_type": "code",
   "execution_count": 33,
   "id": "cceedd6b",
   "metadata": {},
   "outputs": [],
   "source": [
    "retriever = vectorstoredb.as_retriever()\n",
    "from langchain.chains import create_retrieval_chain\n",
    "retriever_chain = create_retrieval_chain(retriever , document_chain)"
   ]
  },
  {
   "cell_type": "code",
   "execution_count": 34,
   "id": "fc253a80",
   "metadata": {},
   "outputs": [
    {
     "data": {
      "text/plain": [
       "RunnableBinding(bound=RunnableAssign(mapper={\n",
       "  context: RunnableBinding(bound=RunnableLambda(lambda x: x['input'])\n",
       "           | VectorStoreRetriever(tags=['FAISS', 'OpenAIEmbeddings'], vectorstore=<langchain_community.vectorstores.faiss.FAISS object at 0x1182f0910>, search_kwargs={}), kwargs={}, config={'run_name': 'retrieve_documents'}, config_factories=[])\n",
       "})\n",
       "| RunnableAssign(mapper={\n",
       "    answer: RunnableBinding(bound=RunnableBinding(bound=RunnableAssign(mapper={\n",
       "              context: RunnableLambda(format_docs)\n",
       "            }), kwargs={}, config={'run_name': 'format_inputs'}, config_factories=[])\n",
       "            | ChatPromptTemplate(input_variables=['context'], input_types={}, partial_variables={}, messages=[HumanMessagePromptTemplate(prompt=PromptTemplate(input_variables=['context'], input_types={}, partial_variables={}, template='\\nAnswer the following question based only on the provided context:\\n<context>\\n{context}\\n</context>\\n\\n\\n'), additional_kwargs={})])\n",
       "            | ChatOpenAI(client=<openai.resources.chat.completions.completions.Completions object at 0x11b238830>, async_client=<openai.resources.chat.completions.completions.AsyncCompletions object at 0x11b23b230>, root_client=<openai.OpenAI object at 0x11b620550>, root_async_client=<openai.AsyncOpenAI object at 0x11b620b90>, model_name='gpt-4o', model_kwargs={}, openai_api_key=SecretStr('**********'))\n",
       "            | StrOutputParser(), kwargs={}, config={'run_name': 'stuff_documents_chain'}, config_factories=[])\n",
       "  }), kwargs={}, config={'run_name': 'retrieval_chain'}, config_factories=[])"
      ]
     },
     "execution_count": 34,
     "metadata": {},
     "output_type": "execute_result"
    }
   ],
   "source": [
    "retriever_chain"
   ]
  },
  {
   "cell_type": "code",
   "execution_count": null,
   "id": "e8c804a3",
   "metadata": {},
   "outputs": [],
   "source": [
    "response = retriever_chain.invoke({\"input\":\"What to do if we don't see any server information in the output?\"})\n"
   ]
  },
  {
   "cell_type": "code",
   "execution_count": 37,
   "id": "ec37b451",
   "metadata": {},
   "outputs": [
    {
     "data": {
      "text/plain": [
       "\"The provided context includes instructions and information related to Docker and server management. Here are some key points and guidance based on the context:\\n\\n1. **Docker Installation Check**: If you run the command `docker info` and do not see server information in the output, it's advisable to verify that Docker is installed correctly and ensure the Docker daemon is running.\\n\\n2. **Viewing Server Logs**: To check if the server is running and to view its logs, you can use the command `docker-compose logs`.\\n\\n3. **Stopping the Server**: To stop the server, execute the command `docker-compose down`.\\n\\nThe information also references some configuration details related to a service at `localhost:1980` with a version specified as `0.5.7` and a license expiration date of `2033-05-20T20:08:06`, but without more specific context, it is not clear what this service pertains to.\""
      ]
     },
     "execution_count": 37,
     "metadata": {},
     "output_type": "execute_result"
    }
   ],
   "source": [
    "response['answer']"
   ]
  }
 ],
 "metadata": {
  "kernelspec": {
   "display_name": ".venv (3.13.3)",
   "language": "python",
   "name": "python3"
  },
  "language_info": {
   "codemirror_mode": {
    "name": "ipython",
    "version": 3
   },
   "file_extension": ".py",
   "mimetype": "text/x-python",
   "name": "python",
   "nbconvert_exporter": "python",
   "pygments_lexer": "ipython3",
   "version": "3.13.3"
  }
 },
 "nbformat": 4,
 "nbformat_minor": 5
}
