{
 "cells": [
  {
   "cell_type": "markdown",
   "id": "41385ef2",
   "metadata": {},
   "source": [
    "FaceBook AI Similarity Search - FAISS, is a library for the efficient similarity search and clustering of dense vectors. It contains the algorithms that search in the set of vectors of any size, up to ones that possibly do not fit in RAM. It also contains supporting code for evaluation and parameter tuning"
   ]
  },
  {
   "cell_type": "code",
   "execution_count": null,
   "id": "03ea61a5",
   "metadata": {
    "vscode": {
     "languageId": "plaintext"
    }
   },
   "outputs": [],
   "source": []
  }
 ],
 "metadata": {
  "language_info": {
   "name": "python"
  }
 },
 "nbformat": 4,
 "nbformat_minor": 5
}
