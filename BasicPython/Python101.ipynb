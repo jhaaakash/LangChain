{
 "cells": [
  {
   "cell_type": "markdown",
   "id": "70e8bdf5",
   "metadata": {},
   "source": [
    "Python for calculations\n",
    "Short overview of common arithmetic operators."
   ]
  },
  {
   "cell_type": "code",
   "execution_count": 12,
   "id": "a553a94b",
   "metadata": {},
   "outputs": [
    {
     "data": {
      "text/plain": [
       "8"
      ]
     },
     "execution_count": 12,
     "metadata": {},
     "output_type": "execute_result"
    }
   ],
   "source": [
    "# Addition\n",
    "6 + 2"
   ]
  },
  {
   "cell_type": "code",
   "execution_count": 13,
   "id": "db3fb661",
   "metadata": {},
   "outputs": [
    {
     "data": {
      "text/plain": [
       "-1"
      ]
     },
     "execution_count": 13,
     "metadata": {},
     "output_type": "execute_result"
    }
   ],
   "source": [
    "\n",
    "# Subtraction\n",
    "3 - 4"
   ]
  },
  {
   "cell_type": "code",
   "execution_count": 14,
   "id": "d41c8cfc",
   "metadata": {},
   "outputs": [
    {
     "data": {
      "text/plain": [
       "0.75"
      ]
     },
     "execution_count": 14,
     "metadata": {},
     "output_type": "execute_result"
    }
   ],
   "source": [
    "# Division\n",
    "3 / 4"
   ]
  },
  {
   "cell_type": "code",
   "execution_count": 15,
   "id": "d776a8c7",
   "metadata": {},
   "outputs": [
    {
     "data": {
      "text/plain": [
       "1"
      ]
     },
     "execution_count": 15,
     "metadata": {},
     "output_type": "execute_result"
    }
   ],
   "source": [
    "# Modulo\n",
    "9 % 2"
   ]
  },
  {
   "cell_type": "code",
   "execution_count": 16,
   "id": "ed284bf6",
   "metadata": {},
   "outputs": [
    {
     "data": {
      "text/plain": [
       "81"
      ]
     },
     "execution_count": 16,
     "metadata": {},
     "output_type": "execute_result"
    }
   ],
   "source": [
    "# Exponentiation\n",
    "9 ** 2"
   ]
  },
  {
   "cell_type": "markdown",
   "id": "32fb5df5",
   "metadata": {},
   "source": [
    "Variables\n",
    "\n",
    "\n",
    "Variable names in Python (1) start with letter or underscore, (2) cannot start with a number, (3) only contain alphanumeric characters and underscores, and (4) are case-sensitive."
   ]
  },
  {
   "cell_type": "code",
   "execution_count": 17,
   "id": "ba4bf17b",
   "metadata": {},
   "outputs": [
    {
     "data": {
      "text/plain": [
       "0"
      ]
     },
     "execution_count": 17,
     "metadata": {},
     "output_type": "execute_result"
    }
   ],
   "source": [
    "# Assign a value to a variable\n",
    "count = 0\n",
    "count"
   ]
  },
  {
   "cell_type": "code",
   "execution_count": 18,
   "id": "d0733abd",
   "metadata": {},
   "outputs": [
    {
     "data": {
      "text/plain": [
       "1"
      ]
     },
     "execution_count": 18,
     "metadata": {},
     "output_type": "execute_result"
    }
   ],
   "source": [
    "# Use of assignment operators\n",
    "count += 1 # same as count = count + 1\n",
    "count"
   ]
  },
  {
   "cell_type": "code",
   "execution_count": 19,
   "id": "9a82d272",
   "metadata": {},
   "outputs": [
    {
     "data": {
      "text/plain": [
       "15.0"
      ]
     },
     "execution_count": 19,
     "metadata": {},
     "output_type": "execute_result"
    }
   ],
   "source": [
    "# Multiple assignments in one line, calculating with variables\n",
    "triangle_base, triangle_height = 5, 6\n",
    "triangle_area = 0.5 * triangle_base * triangle_height\n",
    "triangle_area"
   ]
  },
  {
   "cell_type": "code",
   "execution_count": 20,
   "id": "4f6aa6b6",
   "metadata": {},
   "outputs": [
    {
     "name": "stdout",
     "output_type": "stream",
     "text": [
      "Hello Kim, how are you?\n"
     ]
    }
   ],
   "source": [
    "# Introducing the print function and the f string\n",
    "first_name = 'Kim'\n",
    "print(f'Hello {first_name}, how are you?')"
   ]
  },
  {
   "cell_type": "markdown",
   "id": "fc75e65c",
   "metadata": {},
   "source": [
    "## Exercise for variables\n",
    "\n",
    "Define a string variable text (set to string value of 'Average age').\n",
    "Define two integer variables named age_kim (set to 20) and age_luca (set to 40).\n",
    "Calculate the average age with the sum of Kim's and Lucas' age divided by two and assign the value to a variable avg_age.\n",
    "Use the print function to output the average age string followed by a colon, followed by the average age. Use the f string for it."
   ]
  },
  {
   "cell_type": "code",
   "execution_count": 21,
   "id": "6ce85f7c",
   "metadata": {},
   "outputs": [
    {
     "name": "stdout",
     "output_type": "stream",
     "text": [
      "Avergaege age: 30.0\n"
     ]
    }
   ],
   "source": [
    "\n",
    "age_kim = 20\n",
    "age_luca = 40\n",
    "\n",
    "avg_Age =(age_kim + age_luca) / 2\n",
    "\n",
    "print(f\"Avergaege age: {avg_Age}\")"
   ]
  },
  {
   "cell_type": "markdown",
   "id": "381fc62b",
   "metadata": {},
   "source": [
    "## Types and type conversion\n",
    "Python has type inference (automatic detection of the data type of the expression). Common data types include Integer, Float, String and Boolean."
   ]
  },
  {
   "cell_type": "code",
   "execution_count": 22,
   "id": "2aee138b",
   "metadata": {},
   "outputs": [
    {
     "data": {
      "text/plain": [
       "int"
      ]
     },
     "execution_count": 22,
     "metadata": {},
     "output_type": "execute_result"
    }
   ],
   "source": [
    "# Integer\n",
    "participants = 90\n",
    "type(participants)"
   ]
  }
 ],
 "metadata": {
  "kernelspec": {
   "display_name": ".venv (3.13.3)",
   "language": "python",
   "name": "python3"
  },
  "language_info": {
   "codemirror_mode": {
    "name": "ipython",
    "version": 3
   },
   "file_extension": ".py",
   "mimetype": "text/x-python",
   "name": "python",
   "nbconvert_exporter": "python",
   "pygments_lexer": "ipython3",
   "version": "3.13.3"
  }
 },
 "nbformat": 4,
 "nbformat_minor": 5
}
