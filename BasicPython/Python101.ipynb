{
 "cells": [
  {
   "cell_type": "markdown",
   "id": "70e8bdf5",
   "metadata": {},
   "source": [
    "Python for calculations\n",
    "Short overview of common arithmetic operators."
   ]
  },
  {
   "cell_type": "code",
   "execution_count": 12,
   "id": "a553a94b",
   "metadata": {},
   "outputs": [
    {
     "data": {
      "text/plain": [
       "8"
      ]
     },
     "execution_count": 12,
     "metadata": {},
     "output_type": "execute_result"
    }
   ],
   "source": [
    "# Addition\n",
    "6 + 2"
   ]
  },
  {
   "cell_type": "code",
   "execution_count": 13,
   "id": "db3fb661",
   "metadata": {},
   "outputs": [
    {
     "data": {
      "text/plain": [
       "-1"
      ]
     },
     "execution_count": 13,
     "metadata": {},
     "output_type": "execute_result"
    }
   ],
   "source": [
    "\n",
    "# Subtraction\n",
    "3 - 4"
   ]
  },
  {
   "cell_type": "code",
   "execution_count": 14,
   "id": "d41c8cfc",
   "metadata": {},
   "outputs": [
    {
     "data": {
      "text/plain": [
       "0.75"
      ]
     },
     "execution_count": 14,
     "metadata": {},
     "output_type": "execute_result"
    }
   ],
   "source": [
    "# Division\n",
    "3 / 4"
   ]
  },
  {
   "cell_type": "code",
   "execution_count": 15,
   "id": "d776a8c7",
   "metadata": {},
   "outputs": [
    {
     "data": {
      "text/plain": [
       "1"
      ]
     },
     "execution_count": 15,
     "metadata": {},
     "output_type": "execute_result"
    }
   ],
   "source": [
    "# Modulo\n",
    "9 % 2"
   ]
  },
  {
   "cell_type": "code",
   "execution_count": 16,
   "id": "ed284bf6",
   "metadata": {},
   "outputs": [
    {
     "data": {
      "text/plain": [
       "81"
      ]
     },
     "execution_count": 16,
     "metadata": {},
     "output_type": "execute_result"
    }
   ],
   "source": [
    "# Exponentiation\n",
    "9 ** 2"
   ]
  },
  {
   "cell_type": "markdown",
   "id": "32fb5df5",
   "metadata": {},
   "source": [
    "Variables\n",
    "\n",
    "\n",
    "Variable names in Python (1) start with letter or underscore, (2) cannot start with a number, (3) only contain alphanumeric characters and underscores, and (4) are case-sensitive."
   ]
  },
  {
   "cell_type": "code",
   "execution_count": 17,
   "id": "ba4bf17b",
   "metadata": {},
   "outputs": [
    {
     "data": {
      "text/plain": [
       "0"
      ]
     },
     "execution_count": 17,
     "metadata": {},
     "output_type": "execute_result"
    }
   ],
   "source": [
    "# Assign a value to a variable\n",
    "count = 0\n",
    "count"
   ]
  },
  {
   "cell_type": "code",
   "execution_count": 18,
   "id": "d0733abd",
   "metadata": {},
   "outputs": [
    {
     "data": {
      "text/plain": [
       "1"
      ]
     },
     "execution_count": 18,
     "metadata": {},
     "output_type": "execute_result"
    }
   ],
   "source": [
    "# Use of assignment operators\n",
    "count += 1 # same as count = count + 1\n",
    "count"
   ]
  },
  {
   "cell_type": "code",
   "execution_count": 19,
   "id": "9a82d272",
   "metadata": {},
   "outputs": [
    {
     "data": {
      "text/plain": [
       "15.0"
      ]
     },
     "execution_count": 19,
     "metadata": {},
     "output_type": "execute_result"
    }
   ],
   "source": [
    "# Multiple assignments in one line, calculating with variables\n",
    "triangle_base, triangle_height = 5, 6\n",
    "triangle_area = 0.5 * triangle_base * triangle_height\n",
    "triangle_area"
   ]
  },
  {
   "cell_type": "code",
   "execution_count": 20,
   "id": "4f6aa6b6",
   "metadata": {},
   "outputs": [
    {
     "name": "stdout",
     "output_type": "stream",
     "text": [
      "Hello Kim, how are you?\n"
     ]
    }
   ],
   "source": [
    "# Introducing the print function and the f string\n",
    "first_name = 'Kim'\n",
    "print(f'Hello {first_name}, how are you?')"
   ]
  },
  {
   "cell_type": "markdown",
   "id": "fc75e65c",
   "metadata": {},
   "source": [
    "## Exercise for variables\n",
    "\n",
    "Define a string variable text (set to string value of 'Average age').\n",
    "Define two integer variables named age_kim (set to 20) and age_luca (set to 40).\n",
    "Calculate the average age with the sum of Kim's and Lucas' age divided by two and assign the value to a variable avg_age.\n",
    "Use the print function to output the average age string followed by a colon, followed by the average age. Use the f string for it."
   ]
  },
  {
   "cell_type": "code",
   "execution_count": 21,
   "id": "6ce85f7c",
   "metadata": {},
   "outputs": [
    {
     "name": "stdout",
     "output_type": "stream",
     "text": [
      "Avergaege age: 30.0\n"
     ]
    }
   ],
   "source": [
    "\n",
    "age_kim = 20\n",
    "age_luca = 40\n",
    "\n",
    "avg_Age =(age_kim + age_luca) / 2\n",
    "\n",
    "print(f\"Avergaege age: {avg_Age}\")"
   ]
  },
  {
   "cell_type": "markdown",
   "id": "381fc62b",
   "metadata": {},
   "source": [
    "## Types and type conversion\n",
    "Python has type inference (automatic detection of the data type of the expression). Common data types include Integer, Float, String and Boolean."
   ]
  },
  {
   "cell_type": "code",
   "execution_count": 22,
   "id": "2aee138b",
   "metadata": {},
   "outputs": [
    {
     "data": {
      "text/plain": [
       "int"
      ]
     },
     "execution_count": 22,
     "metadata": {},
     "output_type": "execute_result"
    }
   ],
   "source": [
    "# Integer\n",
    "participants = 90\n",
    "type(participants)"
   ]
  },
  {
   "cell_type": "code",
   "execution_count": 23,
   "id": "4cd96871",
   "metadata": {},
   "outputs": [
    {
     "data": {
      "text/plain": [
       "float"
      ]
     },
     "execution_count": 23,
     "metadata": {},
     "output_type": "execute_result"
    }
   ],
   "source": [
    "# Float\n",
    "distance = 3.5\n",
    "type(distance)"
   ]
  },
  {
   "cell_type": "code",
   "execution_count": 24,
   "id": "7766e80b",
   "metadata": {},
   "outputs": [
    {
     "data": {
      "text/plain": [
       "str"
      ]
     },
     "execution_count": 24,
     "metadata": {},
     "output_type": "execute_result"
    }
   ],
   "source": [
    "# String\n",
    "text = \"text\"\n",
    "another_text = 'another text'\n",
    "type(text)"
   ]
  },
  {
   "cell_type": "code",
   "execution_count": 25,
   "id": "07bc20aa",
   "metadata": {},
   "outputs": [
    {
     "data": {
      "text/plain": [
       "bool"
      ]
     },
     "execution_count": 25,
     "metadata": {},
     "output_type": "execute_result"
    }
   ],
   "source": [
    "# Boolean\n",
    "condition = True\n",
    "type(condition)"
   ]
  },
  {
   "cell_type": "code",
   "execution_count": 28,
   "id": "a937360e",
   "metadata": {},
   "outputs": [
    {
     "name": "stdout",
     "output_type": "stream",
     "text": [
      "<class 'str'>\n"
     ]
    },
    {
     "data": {
      "text/plain": [
       "'True'"
      ]
     },
     "execution_count": 28,
     "metadata": {},
     "output_type": "execute_result"
    }
   ],
   "source": [
    "# Convert variable to a preferred data type with e.g. int(), float(), str(), bool()\n",
    "distance_as_string = str(condition)\n",
    "print(type(distance_as_string))\n",
    "distance_as_string"
   ]
  },
  {
   "cell_type": "markdown",
   "id": "6fccc31f",
   "metadata": {},
   "source": [
    "## Exercise for type conversion\n",
    "Covert both variables into float\n",
    "Divide var1 by var2 and store the result in a variable\n",
    "Convert the result variable result into integer\n",
    "Get the type of the result variable result and assign it to the type variable type_result\n",
    "Comment out and run the assertions to see if they pass"
   ]
  },
  {
   "cell_type": "code",
   "execution_count": 35,
   "id": "cc867373",
   "metadata": {},
   "outputs": [
    {
     "name": "stdout",
     "output_type": "stream",
     "text": [
      "3\n",
      "<class 'int'>\n"
     ]
    }
   ],
   "source": [
    "var1 = True\n",
    "var2 = \".3\"\n",
    "\n",
    "# Your code goes here\n",
    "var1 = float(var1)\n",
    "var2 = float(var2)\n",
    "\n",
    "result = int(var1 / var2)\n",
    "print(result)\n",
    "\n",
    "type_result = type(result)\n",
    "print(type_result)"
   ]
  },
  {
   "cell_type": "code",
   "execution_count": 36,
   "id": "a1badd40",
   "metadata": {},
   "outputs": [
    {
     "name": "stdout",
     "output_type": "stream",
     "text": [
      "Test passed!\n"
     ]
    }
   ],
   "source": [
    "if (result or type_result) is None:\n",
    "    print(\"Test did not pass! Go implement!\")\n",
    "else:\n",
    "    assert result == 3\n",
    "    assert type_result is int\n",
    "    print(\"Test passed!\")"
   ]
  },
  {
   "cell_type": "markdown",
   "id": "fc61c45f",
   "metadata": {},
   "source": []
  },
  {
   "cell_type": "markdown",
   "id": "d456654f",
   "metadata": {},
   "source": [
    "# Lists\n",
    "# Lists are mutable sequences of values that can be of a single type (typical) or different types. A list itself is a type. The next sections cover the following points:\n",
    "\n",
    "-> Create a list\n",
    "-> Access a list\n",
    "-> Manipulate a list\n",
    "-> Copy a list\n",
    "-> Join lists\n",
    "-> Sort and reverse a list"
   ]
  },
  {
   "cell_type": "code",
   "execution_count": 37,
   "id": "30924a41",
   "metadata": {},
   "outputs": [
    {
     "data": {
      "text/plain": [
       "list"
      ]
     },
     "execution_count": 37,
     "metadata": {},
     "output_type": "execute_result"
    }
   ],
   "source": [
    "# Create a list with values of the same type\n",
    "items = ['avocado', 'mushrooms', 'pasta', 'tomato', 'spinach'] # or use type constructor e.g. list(('avocado','pasta')) returns ['avocado', 'pasta']\n",
    "type(items)"
   ]
  },
  {
   "cell_type": "code",
   "execution_count": 38,
   "id": "a09a5c1a",
   "metadata": {},
   "outputs": [
    {
     "name": "stdout",
     "output_type": "stream",
     "text": [
      "<class 'list'>\n",
      "[['avacado', 2], ['potato', 4], ['sugar', 5]]\n"
     ]
    }
   ],
   "source": [
    "items_with_prices = [['avacado', 2],\n",
    "                     ['potato', 4],\n",
    "                     ['sugar', 5]]\n",
    "print(type(items_with_prices))\n",
    "print(items_with_prices)"
   ]
  },
  {
   "cell_type": "code",
   "execution_count": 39,
   "id": "8c7121f4",
   "metadata": {},
   "outputs": [
    {
     "name": "stdout",
     "output_type": "stream",
     "text": [
      "<class 'list'>\n",
      "[3, 'hello', ['i', 5555, True], False, 44, 4.555]\n"
     ]
    }
   ],
   "source": [
    "# Create a list with different types\n",
    "some_value = 44\n",
    "another_list = [3, 'hello', ['i', 5555, True], False, some_value, 4.555]\n",
    "\n",
    "print(type(another_list))\n",
    "print(another_list)"
   ]
  },
  {
   "cell_type": "markdown",
   "id": "0b0511ea",
   "metadata": {},
   "source": [
    "# Access a list\n",
    "Use indexing and slicing to extract a subset of values from a list."
   ]
  },
  {
   "cell_type": "code",
   "execution_count": 40,
   "id": "0937f488",
   "metadata": {},
   "outputs": [
    {
     "data": {
      "text/plain": [
       "'mushrooms'"
      ]
     },
     "execution_count": 40,
     "metadata": {},
     "output_type": "execute_result"
    }
   ],
   "source": [
    "# Indexing second element\n",
    "items[1]"
   ]
  },
  {
   "cell_type": "code",
   "execution_count": 41,
   "id": "fa8500d5",
   "metadata": {},
   "outputs": [
    {
     "data": {
      "text/plain": [
       "'spinach'"
      ]
     },
     "execution_count": 41,
     "metadata": {},
     "output_type": "execute_result"
    }
   ],
   "source": [
    "# Indexing last element\n",
    "items[-1]"
   ]
  },
  {
   "cell_type": "code",
   "execution_count": 42,
   "id": "17986325",
   "metadata": {},
   "outputs": [
    {
     "data": {
      "text/plain": [
       "['tomato', 'spinach']"
      ]
     },
     "execution_count": 42,
     "metadata": {},
     "output_type": "execute_result"
    }
   ],
   "source": [
    "# List slicing with defining start and end index\n",
    "# Start index included, end index excluded\n",
    "items[3:5]"
   ]
  },
  {
   "cell_type": "code",
   "execution_count": 43,
   "id": "366c4a1a",
   "metadata": {},
   "outputs": [
    {
     "data": {
      "text/plain": [
       "['avocado', 'mushrooms', 'pasta']"
      ]
     },
     "execution_count": 43,
     "metadata": {},
     "output_type": "execute_result"
    }
   ],
   "source": [
    "# List slicing with defining either start or end index\n",
    "items[:3]"
   ]
  },
  {
   "cell_type": "markdown",
   "id": "09d23e8c",
   "metadata": {},
   "source": [
    "# Manipulate a list\n",
    "There are many more ways to manipulate a list. Here are some common ones."
   ]
  },
  {
   "cell_type": "code",
   "execution_count": 44,
   "id": "a52b352c",
   "metadata": {},
   "outputs": [
    {
     "data": {
      "text/plain": [
       "['avocado', 'mushrooms', 'pasta', 'tomato', 'spinach']"
      ]
     },
     "execution_count": 44,
     "metadata": {},
     "output_type": "execute_result"
    }
   ],
   "source": [
    "# Look at current list elements\n",
    "items"
   ]
  },
  {
   "cell_type": "code",
   "execution_count": 45,
   "id": "cc575174",
   "metadata": {},
   "outputs": [
    {
     "data": {
      "text/plain": [
       "['avocado', 'mushrooms', 'pasta', 'apple', 'spinach']"
      ]
     },
     "execution_count": 45,
     "metadata": {},
     "output_type": "execute_result"
    }
   ],
   "source": [
    "# Changing an element\n",
    "items[3] = 'apple'\n",
    "items"
   ]
  },
  {
   "cell_type": "code",
   "execution_count": 46,
   "id": "e814e693",
   "metadata": {},
   "outputs": [
    {
     "data": {
      "text/plain": [
       "['strawberry', 'raspberry', 'pasta', 'apple', 'spinach']"
      ]
     },
     "execution_count": 46,
     "metadata": {},
     "output_type": "execute_result"
    }
   ],
   "source": [
    "# Changing elements\n",
    "items[:2] = ['strawberry', 'raspberry']\n",
    "items"
   ]
  },
  {
   "cell_type": "code",
   "execution_count": 47,
   "id": "f2b7fade",
   "metadata": {},
   "outputs": [
    {
     "name": "stdout",
     "output_type": "stream",
     "text": [
      "['strawberry', 'raspberry', 'pasta', 'apple', 'spinach', 'cherry', 'kale']\n",
      "['strawberry', 'raspberry', 'watermelon', 'pasta', 'apple', 'spinach', 'cherry', 'kale']\n",
      "['strawberry', 'raspberry', 'watermelon', 'pasta', 'apple', 'spinach', 'cherry', 'kale', 'pizza']\n"
     ]
    }
   ],
   "source": [
    "# Adding elements\n",
    "items += ['cherry', 'kale']\n",
    "print(items)\n",
    "\n",
    "items.insert(2, 'watermelon')\n",
    "print(items)\n",
    "\n",
    "items.append('pizza')\n",
    "print(items)"
   ]
  },
  {
   "cell_type": "code",
   "execution_count": 48,
   "id": "4e4be43e",
   "metadata": {},
   "outputs": [
    {
     "name": "stdout",
     "output_type": "stream",
     "text": [
      "['raspberry', 'watermelon', 'pasta', 'apple', 'spinach', 'cherry', 'kale', 'pizza']\n",
      "['raspberry', 'watermelon', 'pasta', 'apple', 'spinach', 'cherry', 'kale']\n"
     ]
    }
   ],
   "source": [
    "# Deleting elements\n",
    "del(items[0]) # or use remove('strawberry), pop(0)\n",
    "print(items)\n",
    "\n",
    "items.remove('pizza')\n",
    "print(items)"
   ]
  },
  {
   "cell_type": "code",
   "execution_count": 49,
   "id": "b5afee1d",
   "metadata": {},
   "outputs": [
    {
     "data": {
      "text/plain": [
       "[]"
      ]
     },
     "execution_count": 49,
     "metadata": {},
     "output_type": "execute_result"
    }
   ],
   "source": [
    "# Clear all elements from a list\n",
    "items.clear()\n",
    "items"
   ]
  },
  {
   "cell_type": "markdown",
   "id": "1c57cce1",
   "metadata": {},
   "source": [
    "# Copy a list"
   ]
  },
  {
   "cell_type": "code",
   "execution_count": 50,
   "id": "fc97ef1c",
   "metadata": {},
   "outputs": [
    {
     "data": {
      "text/plain": [
       "['apple', 'orange']"
      ]
     },
     "execution_count": 50,
     "metadata": {},
     "output_type": "execute_result"
    }
   ],
   "source": [
    "# Use list() function if you don't want to assign a reference but want to create a new list with the same values\n",
    "original_items = ['apple', 'orange']\n",
    "new_items = list(original_items) # or use items[:] or items.copy()\n",
    "new_items"
   ]
  },
  {
   "cell_type": "code",
   "execution_count": 51,
   "id": "c1ffa179",
   "metadata": {},
   "outputs": [
    {
     "data": {
      "text/plain": [
       "['apple', 'orange', 'orange']"
      ]
     },
     "execution_count": 51,
     "metadata": {},
     "output_type": "execute_result"
    }
   ],
   "source": [
    "# Remove item from original items\n",
    "del(original_items[0])\n",
    "\n",
    "# Join two lists\n",
    "joined_list = new_items + original_items\n",
    "joined_list"
   ]
  },
  {
   "cell_type": "markdown",
   "id": "cc087f84",
   "metadata": {},
   "source": [
    "# Sort and reverse a list"
   ]
  },
  {
   "cell_type": "code",
   "execution_count": 52,
   "id": "c230b42d",
   "metadata": {},
   "outputs": [
    {
     "name": "stdout",
     "output_type": "stream",
     "text": [
      "[0, 1, 10, 100, 1000]\n",
      "[1000, 100, 10, 1, 0]\n"
     ]
    }
   ],
   "source": [
    "# Sort lists\n",
    "number_list = [10,100,1,0,1000]\n",
    "number_list.sort()\n",
    "print(number_list)\n",
    "\n",
    "# Reverse sort\n",
    "number_list.sort(reverse = True)\n",
    "print(number_list)"
   ]
  },
  {
   "cell_type": "code",
   "execution_count": 53,
   "id": "7740a557",
   "metadata": {},
   "outputs": [
    {
     "data": {
      "text/plain": [
       "[0, 1, 10, 100, 1000]"
      ]
     },
     "execution_count": 53,
     "metadata": {},
     "output_type": "execute_result"
    }
   ],
   "source": [
    "# Reverse order of list\n",
    "number_list.reverse()\n",
    "number_list"
   ]
  },
  {
   "cell_type": "markdown",
   "id": "045389bf",
   "metadata": {},
   "source": [
    "## Exercise for lists\n",
    ". Create a list numbers with the values 9,23,35 and 2\n",
    ". Delete the first value\n",
    ". Alter the last two values by multiplying them by 2\n",
    ". Append the numbers 15 and 50\n",
    ". Sort the list in reverse order"
   ]
  },
  {
   "cell_type": "code",
   "execution_count": null,
   "id": "072577ab",
   "metadata": {},
   "outputs": [
    {
     "name": "stdout",
     "output_type": "stream",
     "text": [
      "Original list: [9, 23, 35, 2]\n",
      "After deleting first value: [23, 35, 2]\n",
      "After multiplying last two values by 2: [23, 70, 4]\n",
      "After appending 15 and 50: [23, 70, 4, '15', '50']\n",
      "After sorting in reverse order: ['50', '15', 4, 70, 23]\n"
     ]
    }
   ],
   "source": [
    "numbers = [9, 23, 35, 2]\n",
    "print(\"Original list:\", numbers)\n",
    "del numbers[0]\n",
    "print(\"After deleting first value:\", numbers)\n",
    "numbers[-2] = numbers[-2] * 2\n",
    "numbers[-1] = numbers[-1] * 2\n",
    "print(\"After multiplying last two values by 2:\", numbers)\n",
    "numbers.append('15')\n",
    "numbers.append('50')\n",
    "print(\"After appending 15 and 50:\", numbers)\n",
    "numbers.reverse()\n",
    "print(\"After reversing the order:\", numbers)"
   ]
  }
 ],
 "metadata": {
  "kernelspec": {
   "display_name": ".venv (3.13.3)",
   "language": "python",
   "name": "python3"
  },
  "language_info": {
   "codemirror_mode": {
    "name": "ipython",
    "version": 3
   },
   "file_extension": ".py",
   "mimetype": "text/x-python",
   "name": "python",
   "nbconvert_exporter": "python",
   "pygments_lexer": "ipython3",
   "version": "3.13.3"
  }
 },
 "nbformat": 4,
 "nbformat_minor": 5
}
