{
 "cells": [
  {
   "cell_type": "markdown",
   "id": "70e8bdf5",
   "metadata": {},
   "source": [
    "Python for calculations\n",
    "Short overview of common arithmetic operators."
   ]
  },
  {
   "cell_type": "code",
   "execution_count": 12,
   "id": "a553a94b",
   "metadata": {},
   "outputs": [
    {
     "data": {
      "text/plain": [
       "8"
      ]
     },
     "execution_count": 12,
     "metadata": {},
     "output_type": "execute_result"
    }
   ],
   "source": [
    "# Addition\n",
    "6 + 2"
   ]
  },
  {
   "cell_type": "code",
   "execution_count": 13,
   "id": "db3fb661",
   "metadata": {},
   "outputs": [
    {
     "data": {
      "text/plain": [
       "-1"
      ]
     },
     "execution_count": 13,
     "metadata": {},
     "output_type": "execute_result"
    }
   ],
   "source": [
    "\n",
    "# Subtraction\n",
    "3 - 4"
   ]
  },
  {
   "cell_type": "code",
   "execution_count": 14,
   "id": "d41c8cfc",
   "metadata": {},
   "outputs": [
    {
     "data": {
      "text/plain": [
       "0.75"
      ]
     },
     "execution_count": 14,
     "metadata": {},
     "output_type": "execute_result"
    }
   ],
   "source": [
    "# Division\n",
    "3 / 4"
   ]
  },
  {
   "cell_type": "code",
   "execution_count": 15,
   "id": "d776a8c7",
   "metadata": {},
   "outputs": [
    {
     "data": {
      "text/plain": [
       "1"
      ]
     },
     "execution_count": 15,
     "metadata": {},
     "output_type": "execute_result"
    }
   ],
   "source": [
    "# Modulo\n",
    "9 % 2"
   ]
  },
  {
   "cell_type": "code",
   "execution_count": 16,
   "id": "ed284bf6",
   "metadata": {},
   "outputs": [
    {
     "data": {
      "text/plain": [
       "81"
      ]
     },
     "execution_count": 16,
     "metadata": {},
     "output_type": "execute_result"
    }
   ],
   "source": [
    "# Exponentiation\n",
    "9 ** 2"
   ]
  },
  {
   "cell_type": "markdown",
   "id": "32fb5df5",
   "metadata": {},
   "source": [
    "Variables\n",
    "\n",
    "\n",
    "Variable names in Python (1) start with letter or underscore, (2) cannot start with a number, (3) only contain alphanumeric characters and underscores, and (4) are case-sensitive."
   ]
  },
  {
   "cell_type": "code",
   "execution_count": 17,
   "id": "ba4bf17b",
   "metadata": {},
   "outputs": [
    {
     "data": {
      "text/plain": [
       "0"
      ]
     },
     "execution_count": 17,
     "metadata": {},
     "output_type": "execute_result"
    }
   ],
   "source": [
    "# Assign a value to a variable\n",
    "count = 0\n",
    "count"
   ]
  },
  {
   "cell_type": "code",
   "execution_count": 18,
   "id": "d0733abd",
   "metadata": {},
   "outputs": [
    {
     "data": {
      "text/plain": [
       "1"
      ]
     },
     "execution_count": 18,
     "metadata": {},
     "output_type": "execute_result"
    }
   ],
   "source": [
    "# Use of assignment operators\n",
    "count += 1 # same as count = count + 1\n",
    "count"
   ]
  },
  {
   "cell_type": "code",
   "execution_count": 19,
   "id": "9a82d272",
   "metadata": {},
   "outputs": [
    {
     "data": {
      "text/plain": [
       "15.0"
      ]
     },
     "execution_count": 19,
     "metadata": {},
     "output_type": "execute_result"
    }
   ],
   "source": [
    "# Multiple assignments in one line, calculating with variables\n",
    "triangle_base, triangle_height = 5, 6\n",
    "triangle_area = 0.5 * triangle_base * triangle_height\n",
    "triangle_area"
   ]
  },
  {
   "cell_type": "code",
   "execution_count": 20,
   "id": "4f6aa6b6",
   "metadata": {},
   "outputs": [
    {
     "name": "stdout",
     "output_type": "stream",
     "text": [
      "Hello Kim, how are you?\n"
     ]
    }
   ],
   "source": [
    "# Introducing the print function and the f string\n",
    "first_name = 'Kim'\n",
    "print(f'Hello {first_name}, how are you?')"
   ]
  },
  {
   "cell_type": "markdown",
   "id": "fc75e65c",
   "metadata": {},
   "source": [
    "## Exercise for variables\n",
    "\n",
    "Define a string variable text (set to string value of 'Average age').\n",
    "Define two integer variables named age_kim (set to 20) and age_luca (set to 40).\n",
    "Calculate the average age with the sum of Kim's and Lucas' age divided by two and assign the value to a variable avg_age.\n",
    "Use the print function to output the average age string followed by a colon, followed by the average age. Use the f string for it."
   ]
  },
  {
   "cell_type": "code",
   "execution_count": 21,
   "id": "6ce85f7c",
   "metadata": {},
   "outputs": [
    {
     "name": "stdout",
     "output_type": "stream",
     "text": [
      "Avergaege age: 30.0\n"
     ]
    }
   ],
   "source": [
    "\n",
    "age_kim = 20\n",
    "age_luca = 40\n",
    "\n",
    "avg_Age =(age_kim + age_luca) / 2\n",
    "\n",
    "print(f\"Avergaege age: {avg_Age}\")"
   ]
  },
  {
   "cell_type": "markdown",
   "id": "381fc62b",
   "metadata": {},
   "source": [
    "## Types and type conversion\n",
    "Python has type inference (automatic detection of the data type of the expression). Common data types include Integer, Float, String and Boolean."
   ]
  },
  {
   "cell_type": "code",
   "execution_count": 22,
   "id": "2aee138b",
   "metadata": {},
   "outputs": [
    {
     "data": {
      "text/plain": [
       "int"
      ]
     },
     "execution_count": 22,
     "metadata": {},
     "output_type": "execute_result"
    }
   ],
   "source": [
    "# Integer\n",
    "participants = 90\n",
    "type(participants)"
   ]
  },
  {
   "cell_type": "code",
   "execution_count": 23,
   "id": "4cd96871",
   "metadata": {},
   "outputs": [
    {
     "data": {
      "text/plain": [
       "float"
      ]
     },
     "execution_count": 23,
     "metadata": {},
     "output_type": "execute_result"
    }
   ],
   "source": [
    "# Float\n",
    "distance = 3.5\n",
    "type(distance)"
   ]
  },
  {
   "cell_type": "code",
   "execution_count": 24,
   "id": "7766e80b",
   "metadata": {},
   "outputs": [
    {
     "data": {
      "text/plain": [
       "str"
      ]
     },
     "execution_count": 24,
     "metadata": {},
     "output_type": "execute_result"
    }
   ],
   "source": [
    "# String\n",
    "text = \"text\"\n",
    "another_text = 'another text'\n",
    "type(text)"
   ]
  },
  {
   "cell_type": "code",
   "execution_count": 25,
   "id": "07bc20aa",
   "metadata": {},
   "outputs": [
    {
     "data": {
      "text/plain": [
       "bool"
      ]
     },
     "execution_count": 25,
     "metadata": {},
     "output_type": "execute_result"
    }
   ],
   "source": [
    "# Boolean\n",
    "condition = True\n",
    "type(condition)"
   ]
  },
  {
   "cell_type": "code",
   "execution_count": 28,
   "id": "a937360e",
   "metadata": {},
   "outputs": [
    {
     "name": "stdout",
     "output_type": "stream",
     "text": [
      "<class 'str'>\n"
     ]
    },
    {
     "data": {
      "text/plain": [
       "'True'"
      ]
     },
     "execution_count": 28,
     "metadata": {},
     "output_type": "execute_result"
    }
   ],
   "source": [
    "# Convert variable to a preferred data type with e.g. int(), float(), str(), bool()\n",
    "distance_as_string = str(condition)\n",
    "print(type(distance_as_string))\n",
    "distance_as_string"
   ]
  },
  {
   "cell_type": "markdown",
   "id": "6fccc31f",
   "metadata": {},
   "source": [
    "## Exercise for type conversion\n",
    "Covert both variables into float\n",
    "Divide var1 by var2 and store the result in a variable\n",
    "Convert the result variable result into integer\n",
    "Get the type of the result variable result and assign it to the type variable type_result\n",
    "Comment out and run the assertions to see if they pass"
   ]
  },
  {
   "cell_type": "code",
   "execution_count": 35,
   "id": "cc867373",
   "metadata": {},
   "outputs": [
    {
     "name": "stdout",
     "output_type": "stream",
     "text": [
      "3\n",
      "<class 'int'>\n"
     ]
    }
   ],
   "source": [
    "var1 = True\n",
    "var2 = \".3\"\n",
    "\n",
    "# Your code goes here\n",
    "var1 = float(var1)\n",
    "var2 = float(var2)\n",
    "\n",
    "result = int(var1 / var2)\n",
    "print(result)\n",
    "\n",
    "type_result = type(result)\n",
    "print(type_result)"
   ]
  },
  {
   "cell_type": "code",
   "execution_count": 36,
   "id": "a1badd40",
   "metadata": {},
   "outputs": [
    {
     "name": "stdout",
     "output_type": "stream",
     "text": [
      "Test passed!\n"
     ]
    }
   ],
   "source": [
    "if (result or type_result) is None:\n",
    "    print(\"Test did not pass! Go implement!\")\n",
    "else:\n",
    "    assert result == 3\n",
    "    assert type_result is int\n",
    "    print(\"Test passed!\")"
   ]
  },
  {
   "cell_type": "markdown",
   "id": "fc61c45f",
   "metadata": {},
   "source": []
  },
  {
   "cell_type": "markdown",
   "id": "d456654f",
   "metadata": {},
   "source": [
    "# Lists\n",
    "# Lists are mutable sequences of values that can be of a single type (typical) or different types. A list itself is a type. The next sections cover the following points:\n",
    "\n",
    "-> Create a list\n",
    "-> Access a list\n",
    "-> Manipulate a list\n",
    "-> Copy a list\n",
    "-> Join lists\n",
    "-> Sort and reverse a list"
   ]
  },
  {
   "cell_type": "code",
   "execution_count": 37,
   "id": "30924a41",
   "metadata": {},
   "outputs": [
    {
     "data": {
      "text/plain": [
       "list"
      ]
     },
     "execution_count": 37,
     "metadata": {},
     "output_type": "execute_result"
    }
   ],
   "source": [
    "# Create a list with values of the same type\n",
    "items = ['avocado', 'mushrooms', 'pasta', 'tomato', 'spinach'] # or use type constructor e.g. list(('avocado','pasta')) returns ['avocado', 'pasta']\n",
    "type(items)"
   ]
  },
  {
   "cell_type": "code",
   "execution_count": 38,
   "id": "a09a5c1a",
   "metadata": {},
   "outputs": [
    {
     "name": "stdout",
     "output_type": "stream",
     "text": [
      "<class 'list'>\n",
      "[['avacado', 2], ['potato', 4], ['sugar', 5]]\n"
     ]
    }
   ],
   "source": [
    "items_with_prices = [['avacado', 2],\n",
    "                     ['potato', 4],\n",
    "                     ['sugar', 5]]\n",
    "print(type(items_with_prices))\n",
    "print(items_with_prices)"
   ]
  },
  {
   "cell_type": "code",
   "execution_count": 39,
   "id": "8c7121f4",
   "metadata": {},
   "outputs": [
    {
     "name": "stdout",
     "output_type": "stream",
     "text": [
      "<class 'list'>\n",
      "[3, 'hello', ['i', 5555, True], False, 44, 4.555]\n"
     ]
    }
   ],
   "source": [
    "# Create a list with different types\n",
    "some_value = 44\n",
    "another_list = [3, 'hello', ['i', 5555, True], False, some_value, 4.555]\n",
    "\n",
    "print(type(another_list))\n",
    "print(another_list)"
   ]
  },
  {
   "cell_type": "markdown",
   "id": "0b0511ea",
   "metadata": {},
   "source": [
    "# Access a list\n",
    "Use indexing and slicing to extract a subset of values from a list."
   ]
  },
  {
   "cell_type": "code",
   "execution_count": 40,
   "id": "0937f488",
   "metadata": {},
   "outputs": [
    {
     "data": {
      "text/plain": [
       "'mushrooms'"
      ]
     },
     "execution_count": 40,
     "metadata": {},
     "output_type": "execute_result"
    }
   ],
   "source": [
    "# Indexing second element\n",
    "items[1]"
   ]
  },
  {
   "cell_type": "code",
   "execution_count": 41,
   "id": "fa8500d5",
   "metadata": {},
   "outputs": [
    {
     "data": {
      "text/plain": [
       "'spinach'"
      ]
     },
     "execution_count": 41,
     "metadata": {},
     "output_type": "execute_result"
    }
   ],
   "source": [
    "# Indexing last element\n",
    "items[-1]"
   ]
  },
  {
   "cell_type": "code",
   "execution_count": 42,
   "id": "17986325",
   "metadata": {},
   "outputs": [
    {
     "data": {
      "text/plain": [
       "['tomato', 'spinach']"
      ]
     },
     "execution_count": 42,
     "metadata": {},
     "output_type": "execute_result"
    }
   ],
   "source": [
    "# List slicing with defining start and end index\n",
    "# Start index included, end index excluded\n",
    "items[3:5]"
   ]
  },
  {
   "cell_type": "code",
   "execution_count": 43,
   "id": "366c4a1a",
   "metadata": {},
   "outputs": [
    {
     "data": {
      "text/plain": [
       "['avocado', 'mushrooms', 'pasta']"
      ]
     },
     "execution_count": 43,
     "metadata": {},
     "output_type": "execute_result"
    }
   ],
   "source": [
    "# List slicing with defining either start or end index\n",
    "items[:3]"
   ]
  },
  {
   "cell_type": "markdown",
   "id": "09d23e8c",
   "metadata": {},
   "source": [
    "# Manipulate a list\n",
    "There are many more ways to manipulate a list. Here are some common ones."
   ]
  },
  {
   "cell_type": "code",
   "execution_count": 44,
   "id": "a52b352c",
   "metadata": {},
   "outputs": [
    {
     "data": {
      "text/plain": [
       "['avocado', 'mushrooms', 'pasta', 'tomato', 'spinach']"
      ]
     },
     "execution_count": 44,
     "metadata": {},
     "output_type": "execute_result"
    }
   ],
   "source": [
    "# Look at current list elements\n",
    "items"
   ]
  },
  {
   "cell_type": "code",
   "execution_count": 45,
   "id": "cc575174",
   "metadata": {},
   "outputs": [
    {
     "data": {
      "text/plain": [
       "['avocado', 'mushrooms', 'pasta', 'apple', 'spinach']"
      ]
     },
     "execution_count": 45,
     "metadata": {},
     "output_type": "execute_result"
    }
   ],
   "source": [
    "# Changing an element\n",
    "items[3] = 'apple'\n",
    "items"
   ]
  },
  {
   "cell_type": "code",
   "execution_count": 46,
   "id": "e814e693",
   "metadata": {},
   "outputs": [
    {
     "data": {
      "text/plain": [
       "['strawberry', 'raspberry', 'pasta', 'apple', 'spinach']"
      ]
     },
     "execution_count": 46,
     "metadata": {},
     "output_type": "execute_result"
    }
   ],
   "source": [
    "# Changing elements\n",
    "items[:2] = ['strawberry', 'raspberry']\n",
    "items"
   ]
  },
  {
   "cell_type": "code",
   "execution_count": 47,
   "id": "f2b7fade",
   "metadata": {},
   "outputs": [
    {
     "name": "stdout",
     "output_type": "stream",
     "text": [
      "['strawberry', 'raspberry', 'pasta', 'apple', 'spinach', 'cherry', 'kale']\n",
      "['strawberry', 'raspberry', 'watermelon', 'pasta', 'apple', 'spinach', 'cherry', 'kale']\n",
      "['strawberry', 'raspberry', 'watermelon', 'pasta', 'apple', 'spinach', 'cherry', 'kale', 'pizza']\n"
     ]
    }
   ],
   "source": [
    "# Adding elements\n",
    "items += ['cherry', 'kale']\n",
    "print(items)\n",
    "\n",
    "items.insert(2, 'watermelon')\n",
    "print(items)\n",
    "\n",
    "items.append('pizza')\n",
    "print(items)"
   ]
  },
  {
   "cell_type": "code",
   "execution_count": 48,
   "id": "4e4be43e",
   "metadata": {},
   "outputs": [
    {
     "name": "stdout",
     "output_type": "stream",
     "text": [
      "['raspberry', 'watermelon', 'pasta', 'apple', 'spinach', 'cherry', 'kale', 'pizza']\n",
      "['raspberry', 'watermelon', 'pasta', 'apple', 'spinach', 'cherry', 'kale']\n"
     ]
    }
   ],
   "source": [
    "# Deleting elements\n",
    "del(items[0]) # or use remove('strawberry), pop(0)\n",
    "print(items)\n",
    "\n",
    "items.remove('pizza')\n",
    "print(items)"
   ]
  },
  {
   "cell_type": "code",
   "execution_count": 49,
   "id": "b5afee1d",
   "metadata": {},
   "outputs": [
    {
     "data": {
      "text/plain": [
       "[]"
      ]
     },
     "execution_count": 49,
     "metadata": {},
     "output_type": "execute_result"
    }
   ],
   "source": [
    "# Clear all elements from a list\n",
    "items.clear()\n",
    "items"
   ]
  },
  {
   "cell_type": "markdown",
   "id": "1c57cce1",
   "metadata": {},
   "source": [
    "# Copy a list"
   ]
  },
  {
   "cell_type": "code",
   "execution_count": 50,
   "id": "fc97ef1c",
   "metadata": {},
   "outputs": [
    {
     "data": {
      "text/plain": [
       "['apple', 'orange']"
      ]
     },
     "execution_count": 50,
     "metadata": {},
     "output_type": "execute_result"
    }
   ],
   "source": [
    "# Use list() function if you don't want to assign a reference but want to create a new list with the same values\n",
    "original_items = ['apple', 'orange']\n",
    "new_items = list(original_items) # or use items[:] or items.copy()\n",
    "new_items"
   ]
  },
  {
   "cell_type": "code",
   "execution_count": 51,
   "id": "c1ffa179",
   "metadata": {},
   "outputs": [
    {
     "data": {
      "text/plain": [
       "['apple', 'orange', 'orange']"
      ]
     },
     "execution_count": 51,
     "metadata": {},
     "output_type": "execute_result"
    }
   ],
   "source": [
    "# Remove item from original items\n",
    "del(original_items[0])\n",
    "\n",
    "# Join two lists\n",
    "joined_list = new_items + original_items\n",
    "joined_list"
   ]
  },
  {
   "cell_type": "markdown",
   "id": "cc087f84",
   "metadata": {},
   "source": [
    "# Sort and reverse a list"
   ]
  },
  {
   "cell_type": "code",
   "execution_count": 52,
   "id": "c230b42d",
   "metadata": {},
   "outputs": [
    {
     "name": "stdout",
     "output_type": "stream",
     "text": [
      "[0, 1, 10, 100, 1000]\n",
      "[1000, 100, 10, 1, 0]\n"
     ]
    }
   ],
   "source": [
    "# Sort lists\n",
    "number_list = [10,100,1,0,1000]\n",
    "number_list.sort()\n",
    "print(number_list)\n",
    "\n",
    "# Reverse sort\n",
    "number_list.sort(reverse = True)\n",
    "print(number_list)"
   ]
  },
  {
   "cell_type": "code",
   "execution_count": 53,
   "id": "7740a557",
   "metadata": {},
   "outputs": [
    {
     "data": {
      "text/plain": [
       "[0, 1, 10, 100, 1000]"
      ]
     },
     "execution_count": 53,
     "metadata": {},
     "output_type": "execute_result"
    }
   ],
   "source": [
    "# Reverse order of list\n",
    "number_list.reverse()\n",
    "number_list"
   ]
  },
  {
   "cell_type": "markdown",
   "id": "045389bf",
   "metadata": {},
   "source": [
    "## Exercise for lists\n",
    ". Create a list numbers with the values 9,23,35 and 2\n",
    ". Delete the first value\n",
    ". Alter the last two values by multiplying them by 2\n",
    ". Append the numbers 15 and 50\n",
    ". Sort the list in reverse order"
   ]
  },
  {
   "cell_type": "code",
   "execution_count": 65,
   "id": "072577ab",
   "metadata": {},
   "outputs": [
    {
     "name": "stdout",
     "output_type": "stream",
     "text": [
      "Original list: [9, 23, 35, 2]\n",
      "After deleting first value: [23, 35, 2]\n",
      "After multiplying last two values by 2: [23, 70, 4]\n",
      "After appending 15 and 50: [23, 70, 4, '15', '50']\n",
      "After reversing the order: ['50', '15', 4, 70, 23]\n"
     ]
    }
   ],
   "source": [
    "numbers = [9, 23, 35, 2]\n",
    "print(\"Original list:\", numbers)\n",
    "del numbers[0]\n",
    "print(\"After deleting first value:\", numbers)\n",
    "numbers[-2] = numbers[-2] * 2\n",
    "numbers[-1] = numbers[-1] * 2\n",
    "print(\"After multiplying last two values by 2:\", numbers)\n",
    "numbers.append('15')\n",
    "numbers.append('50')\n",
    "print(\"After appending 15 and 50:\", numbers)\n",
    "numbers.reverse()\n",
    "print(\"After reversing the order:\", numbers)"
   ]
  },
  {
   "cell_type": "markdown",
   "id": "5742896a",
   "metadata": {},
   "source": [
    "# Tuples, dictionaries and sets\n",
    "Other common data types include the tuple, dictionary and set.\n",
    "\n",
    "## Tuple\n",
    "Tuples are sequences of values that are immutable and ordered. Duplicates are allowed. Values are indexed and can be from any type."
   ]
  },
  {
   "cell_type": "code",
   "execution_count": 66,
   "id": "823784ea",
   "metadata": {},
   "outputs": [
    {
     "data": {
      "text/plain": [
       "tuple"
      ]
     },
     "execution_count": 66,
     "metadata": {},
     "output_type": "execute_result"
    }
   ],
   "source": [
    "tuple_example = (12, 'word', True)\n",
    "type(tuple_example)"
   ]
  },
  {
   "cell_type": "markdown",
   "id": "f00c60bb",
   "metadata": {},
   "source": [
    "# Dictionary\n",
    "Dictionaries are mutable collections used to store key to value pairs. Hashable values (keys) are mapped to any kind of object (values). Keys have one data type while the values can be from any type. Duplicates are not allowed."
   ]
  },
  {
   "cell_type": "code",
   "execution_count": 67,
   "id": "233587c8",
   "metadata": {},
   "outputs": [
    {
     "data": {
      "text/plain": [
       "dict"
      ]
     },
     "execution_count": 67,
     "metadata": {},
     "output_type": "execute_result"
    }
   ],
   "source": [
    "dict_example = {'firstKey': 1, 'secondKey': 2, 'thirdKey': 3} # or dict(firstKey=1, secondKey=2, thirdKey=3)\n",
    "type(dict_example)"
   ]
  },
  {
   "cell_type": "markdown",
   "id": "0190a1e3",
   "metadata": {},
   "source": [
    "# Set\n",
    "Sets are unordered and un-indexed collections. Duplicates are not allowed. The items within the set are immutable but items can be removed or added. Items can be from any type."
   ]
  },
  {
   "cell_type": "code",
   "execution_count": 68,
   "id": "ce3ef5e8",
   "metadata": {},
   "outputs": [
    {
     "data": {
      "text/plain": [
       "set"
      ]
     },
     "execution_count": 68,
     "metadata": {},
     "output_type": "execute_result"
    }
   ],
   "source": [
    "set_example = {'word1', True, 34}\n",
    "type(set_example)"
   ]
  },
  {
   "cell_type": "markdown",
   "id": "33a406ac",
   "metadata": {},
   "source": [
    "# Indentation\n",
    "Python uses indentation in the form of white spaces to indicate blocks of code. Indentation is therefore a must. Mixing tabs and spaces is disallowed (often spaces preferred). Explicit line joining (using the backslash) and Implicit line joining (for content within parentheses, square brackets or curly braces) are additional ways to structure code (e.g. for better readability)."
   ]
  },
  {
   "cell_type": "code",
   "execution_count": 69,
   "id": "faf48259",
   "metadata": {},
   "outputs": [
    {
     "data": {
      "text/plain": [
       "['a', 'b', 'c', 'd', 'e']"
      ]
     },
     "execution_count": 69,
     "metadata": {},
     "output_type": "execute_result"
    }
   ],
   "source": [
    "# Explicit line joining\n",
    "full_list = ['a', 'b'] \\\n",
    "    + ['c'] \\\n",
    "    + ['d', 'e']\n",
    "\n",
    "full_list"
   ]
  },
  {
   "cell_type": "code",
   "execution_count": 73,
   "id": "1538138a",
   "metadata": {},
   "outputs": [
    {
     "data": {
      "text/plain": [
       "['Monday',\n",
       " 'Tuesday',\n",
       " 'Wednesday',\n",
       " 'Thursday',\n",
       " 'Friday',\n",
       " 'Saturday',\n",
       " 'NonsenseDay',\n",
       " 'Sunday']"
      ]
     },
     "execution_count": 73,
     "metadata": {},
     "output_type": "execute_result"
    }
   ],
   "source": [
    "# Implicit line joining\n",
    "another_list = ['Monday', 'Tuesday', 'Wednesday',\n",
    "                'Thursday', 'Friday', 'Saturday',\n",
    "                'NonsenseDay','Sunday']\n",
    "\n",
    "another_list"
   ]
  },
  {
   "cell_type": "markdown",
   "id": "f63a25d1",
   "metadata": {},
   "source": [
    "# Functions and methods\n",
    "Functions are reusable code that has to be invoked to run and can be defined in Python with the def keyword. Methods are functions, either built-in methods\n",
    " (e.g. string methods) or class instance methods."
   ]
  },
  {
   "cell_type": "code",
   "execution_count": 74,
   "id": "79610736",
   "metadata": {},
   "outputs": [
    {
     "name": "stdout",
     "output_type": "stream",
     "text": [
      "Hello\n"
     ]
    }
   ],
   "source": [
    "# Defining and invoking a function\n",
    "def print_hello():\n",
    "    print('Hello')\n",
    "\n",
    "print_hello()"
   ]
  },
  {
   "cell_type": "code",
   "execution_count": 76,
   "id": "f70012b0",
   "metadata": {},
   "outputs": [
    {
     "data": {
      "text/plain": [
       "15.0"
      ]
     },
     "execution_count": 76,
     "metadata": {},
     "output_type": "execute_result"
    }
   ],
   "source": [
    "# Define a function with arguments/parameters and return statement\n",
    "def calculate_triangle_area(base, height):\n",
    "    return 0.5 * base * height\n",
    "\n",
    "calculate_triangle_area(5, 6)"
   ]
  },
  {
   "cell_type": "code",
   "execution_count": 77,
   "id": "877be560",
   "metadata": {},
   "outputs": [
    {
     "name": "stdout",
     "output_type": "stream",
     "text": [
      "Help on built-in function print in module builtins:\n",
      "\n",
      "print(*args, sep=' ', end='\\n', file=None, flush=False)\n",
      "    Prints the values to a stream, or to sys.stdout by default.\n",
      "\n",
      "    sep\n",
      "      string inserted between values, default a space.\n",
      "    end\n",
      "      string appended after the last value, default a newline.\n",
      "    file\n",
      "      a file-like object (stream); defaults to the current sys.stdout.\n",
      "    flush\n",
      "      whether to forcibly flush the stream.\n",
      "\n"
     ]
    }
   ],
   "source": [
    "# Use the help method to get more context\n",
    "help(print)"
   ]
  },
  {
   "cell_type": "markdown",
   "id": "7c40d846",
   "metadata": {},
   "source": [
    "# Lambda functions\n",
    "Lambdas are small anonymous functions. They are efficient for simple expressions (single line statements) and if a function should be used only once"
   ]
  },
  {
   "cell_type": "code",
   "execution_count": 80,
   "id": "56de432e",
   "metadata": {},
   "outputs": [
    {
     "data": {
      "text/plain": [
       "51"
      ]
     },
     "execution_count": 80,
     "metadata": {},
     "output_type": "execute_result"
    }
   ],
   "source": [
    "# A function defined by the def keyword\n",
    "# def add_two_numbers(val1, val2):\n",
    "#     return val1 + val2\n",
    "\n",
    "# Equivalent lambda function\n",
    "lambda_add_two_numbers = lambda a, b: a + b\n",
    "lambda_add_two_numbers(46,5)"
   ]
  },
  {
   "cell_type": "code",
   "execution_count": 81,
   "id": "02effd66",
   "metadata": {},
   "outputs": [
    {
     "data": {
      "text/plain": [
       "10"
      ]
     },
     "execution_count": 81,
     "metadata": {},
     "output_type": "execute_result"
    }
   ],
   "source": [
    "# Passing in a function as arguments\n",
    "example_function = lambda a, b, func: a * func(a,b)\n",
    "example_function(2, 3, lambda a, b: a + b)"
   ]
  },
  {
   "cell_type": "markdown",
   "id": "6c783900",
   "metadata": {},
   "source": [
    "# Map, filter and reduce\n",
    "Map, filter and reduce are higher order functions. Map and filter are built-in functions. Reduce has to be imported from the functools.\n",
    "\n",
    "The map function takes a function and iterables as arguments. The function is applied to every element in an iterable (e.g. on each element of a list).\n",
    "The filter function filters elements based on a function. The output contains the elements for which the applied passed in function returned true.\n",
    "The reduce function applies a provided function on the provided iterables. A single value is returned."
   ]
  },
  {
   "cell_type": "code",
   "execution_count": 82,
   "id": "60d0069f",
   "metadata": {},
   "outputs": [
    {
     "data": {
      "text/plain": [
       "[0, 1, 2, 3]"
      ]
     },
     "execution_count": 82,
     "metadata": {},
     "output_type": "execute_result"
    }
   ],
   "source": [
    "# Map with map(function, iterables)\n",
    "example_list = [1,2,3,4]\n",
    "\n",
    "list(map(lambda a: a-1, example_list))"
   ]
  },
  {
   "cell_type": "code",
   "execution_count": 83,
   "id": "7aaba3d4",
   "metadata": {},
   "outputs": [
    {
     "data": {
      "text/plain": [
       "[2, 3, 4]"
      ]
     },
     "execution_count": 83,
     "metadata": {},
     "output_type": "execute_result"
    }
   ],
   "source": [
    "# Filter with filter(function, iterables)\n",
    "example_list = [1,2,3,4]\n",
    "\n",
    "list(filter(lambda a: a>=2, example_list))"
   ]
  },
  {
   "cell_type": "code",
   "execution_count": 84,
   "id": "593a4bef",
   "metadata": {},
   "outputs": [
    {
     "data": {
      "text/plain": [
       "10"
      ]
     },
     "execution_count": 84,
     "metadata": {},
     "output_type": "execute_result"
    }
   ],
   "source": [
    "# Reduce with reduce(function, iterables)\n",
    "from functools import reduce\n",
    "\n",
    "example_list = [1,2,3,4]\n",
    "\n",
    "reduce(lambda a,b: a+b, example_list)"
   ]
  },
  {
   "cell_type": "markdown",
   "id": "2a8734a8",
   "metadata": {},
   "source": [
    "# Exercises for functions\n",
    "1 Create a function join_two_lists that joins two lists, then sorts them and returns the result. \n",
    "\n",
    "2 Create a function retrieve_odd_numbers that takes in a list and returns a list with only odd numbers. \n",
    "\n",
    "3 Create a lambda function calculate_cuboid_volume that calculates the volume of a cuboid (height times width times depth)."
   ]
  },
  {
   "cell_type": "code",
   "execution_count": 89,
   "id": "93ebc957",
   "metadata": {},
   "outputs": [],
   "source": [
    "# 1 Your code goes here\n",
    "def join_two_lists(list1,  list2):\n",
    "    \"\"\"\n",
    "    Join two lists together, sort the combined list, and return the result.\n",
    "    \n",
    "    Args:\n",
    "        list1: The first list to join\n",
    "        list2: The second list to join\n",
    "        \n",
    "    Returns:\n",
    "        A sorted list containing all elements from both input lists\n",
    "    \"\"\"\n",
    "    list3 = list1 + list2\n",
    "    list3.sort()\n",
    "    return list3\n",
    "    "
   ]
  },
  {
   "cell_type": "code",
   "execution_count": 90,
   "id": "f286c7e9",
   "metadata": {},
   "outputs": [
    {
     "name": "stdout",
     "output_type": "stream",
     "text": [
      "Test passed!\n"
     ]
    }
   ],
   "source": [
    "def test_join_two_lists():\n",
    "    if join_two_lists is None:\n",
    "        print(\"Test did not pass! Go implement!\")\n",
    "    else:\n",
    "        list1 = [5, 4]\n",
    "        list2 = [3, 9]\n",
    "        assert join_two_lists(list1, list2) == [3, 4, 5, 9]\n",
    "        print(\"Test passed!\")\n",
    "\n",
    "test_join_two_lists()"
   ]
  },
  {
   "cell_type": "code",
   "execution_count": 91,
   "id": "7078d902",
   "metadata": {},
   "outputs": [],
   "source": [
    "# 2 Your code goes here\n",
    "def retrieve_odd_numbers(list1):\n",
    "    \"\"\"\n",
    "    Filter a list to return only odd numbers.\n",
    "    \n",
    "    Args:\n",
    "        list1: A list of numbers\n",
    "        \n",
    "    Returns:\n",
    "        A list containing only the odd numbers from the input list\n",
    "    \"\"\"\n",
    "    odd_number =[]\n",
    "    for num in list1:\n",
    "        if num % 2 !=0:\n",
    "            odd_number.append(num)\n",
    "    return odd_number"
   ]
  },
  {
   "cell_type": "code",
   "execution_count": 92,
   "id": "58f36e88",
   "metadata": {},
   "outputs": [
    {
     "name": "stdout",
     "output_type": "stream",
     "text": [
      "Test passed!\n"
     ]
    }
   ],
   "source": [
    "def test_retrieve_odd_numbers():\n",
    "    if retrieve_odd_numbers is None:\n",
    "        print(\"Test did not pass! Go implement!\")\n",
    "    else:\n",
    "        nums = [5, 6, 4, 2, 1]\n",
    "        assert retrieve_odd_numbers(nums) == [5, 1]\n",
    "        print(\"Test passed!\")\n",
    "\n",
    "test_retrieve_odd_numbers()"
   ]
  },
  {
   "cell_type": "code",
   "execution_count": 95,
   "id": "913118f7",
   "metadata": {},
   "outputs": [],
   "source": [
    "calculate_cuboid_volume = lambda height, width, depth: height * width * depth"
   ]
  },
  {
   "cell_type": "code",
   "execution_count": 97,
   "id": "ccdc8753",
   "metadata": {},
   "outputs": [
    {
     "name": "stdout",
     "output_type": "stream",
     "text": [
      "Test passed!\n"
     ]
    }
   ],
   "source": [
    "def test_calculate_cuboid_volume():\n",
    "    if calculate_cuboid_volume is None:\n",
    "        print(\"Test did not pass! Go implement!\")\n",
    "    else:\n",
    "        height = 2\n",
    "        width = 5\n",
    "        depth = 2\n",
    "        assert calculate_cuboid_volume(height, width, depth) == 20\n",
    "        print(\"Test passed!\")\n",
    "\n",
    "test_calculate_cuboid_volume()"
   ]
  },
  {
   "cell_type": "markdown",
   "id": "105aae4d",
   "metadata": {},
   "source": [
    "# Modules and packages\n",
    "Modules can be .py files with various functions and variables. Packages are a collection of modules with an init file. For installation of packages pip can be used."
   ]
  },
  {
   "cell_type": "code",
   "execution_count": 98,
   "id": "c4363451",
   "metadata": {},
   "outputs": [
    {
     "data": {
      "text/plain": [
       "['__breakpointhook__',\n",
       " '__displayhook__',\n",
       " '__doc__',\n",
       " '__excepthook__',\n",
       " '__interactivehook__',\n",
       " '__loader__',\n",
       " '__name__',\n",
       " '__package__',\n",
       " '__spec__',\n",
       " '__stderr__',\n",
       " '__stdin__',\n",
       " '__stdout__',\n",
       " '__unraisablehook__',\n",
       " '_base_executable',\n",
       " '_baserepl',\n",
       " '_clear_internal_caches',\n",
       " '_clear_type_cache',\n",
       " '_current_exceptions',\n",
       " '_current_frames',\n",
       " '_debugmallocstats',\n",
       " '_framework',\n",
       " '_get_cpu_count_config',\n",
       " '_getframe',\n",
       " '_getframemodulename',\n",
       " '_git',\n",
       " '_home',\n",
       " '_is_gil_enabled',\n",
       " '_is_interned',\n",
       " '_setprofileallthreads',\n",
       " '_settraceallthreads',\n",
       " '_stdlib_dir',\n",
       " '_xoptions',\n",
       " 'abiflags',\n",
       " 'activate_stack_trampoline',\n",
       " 'addaudithook',\n",
       " 'api_version',\n",
       " 'argv',\n",
       " 'audit',\n",
       " 'base_exec_prefix',\n",
       " 'base_prefix',\n",
       " 'breakpointhook',\n",
       " 'builtin_module_names',\n",
       " 'byteorder',\n",
       " 'call_tracing',\n",
       " 'copyright',\n",
       " 'deactivate_stack_trampoline',\n",
       " 'displayhook',\n",
       " 'dont_write_bytecode',\n",
       " 'exc_info',\n",
       " 'excepthook',\n",
       " 'exception',\n",
       " 'exec_prefix',\n",
       " 'executable',\n",
       " 'exit',\n",
       " 'flags',\n",
       " 'float_info',\n",
       " 'float_repr_style',\n",
       " 'get_asyncgen_hooks',\n",
       " 'get_coroutine_origin_tracking_depth',\n",
       " 'get_int_max_str_digits',\n",
       " 'getallocatedblocks',\n",
       " 'getdefaultencoding',\n",
       " 'getdlopenflags',\n",
       " 'getfilesystemencodeerrors',\n",
       " 'getfilesystemencoding',\n",
       " 'getprofile',\n",
       " 'getrecursionlimit',\n",
       " 'getrefcount',\n",
       " 'getsizeof',\n",
       " 'getswitchinterval',\n",
       " 'gettrace',\n",
       " 'getunicodeinternedsize',\n",
       " 'hash_info',\n",
       " 'hexversion',\n",
       " 'implementation',\n",
       " 'int_info',\n",
       " 'intern',\n",
       " 'is_finalizing',\n",
       " 'is_stack_trampoline_active',\n",
       " 'last_exc',\n",
       " 'last_traceback',\n",
       " 'last_type',\n",
       " 'last_value',\n",
       " 'maxsize',\n",
       " 'maxunicode',\n",
       " 'meta_path',\n",
       " 'modules',\n",
       " 'monitoring',\n",
       " 'orig_argv',\n",
       " 'path',\n",
       " 'path_hooks',\n",
       " 'path_importer_cache',\n",
       " 'platform',\n",
       " 'platlibdir',\n",
       " 'prefix',\n",
       " 'ps1',\n",
       " 'ps2',\n",
       " 'ps3',\n",
       " 'pycache_prefix',\n",
       " 'set_asyncgen_hooks',\n",
       " 'set_coroutine_origin_tracking_depth',\n",
       " 'set_int_max_str_digits',\n",
       " 'setdlopenflags',\n",
       " 'setprofile',\n",
       " 'setrecursionlimit',\n",
       " 'setswitchinterval',\n",
       " 'settrace',\n",
       " 'stderr',\n",
       " 'stdin',\n",
       " 'stdlib_module_names',\n",
       " 'stdout',\n",
       " 'thread_info',\n",
       " 'unraisablehook',\n",
       " 'version',\n",
       " 'version_info',\n",
       " 'warnoptions']"
      ]
     },
     "execution_count": 98,
     "metadata": {},
     "output_type": "execute_result"
    }
   ],
   "source": [
    "# Import a module\n",
    "import sys\n",
    "\n",
    "# Use dir function to find out what is defined within a module\n",
    "dir(sys)"
   ]
  },
  {
   "cell_type": "code",
   "execution_count": 99,
   "id": "79ff8d65",
   "metadata": {},
   "outputs": [
    {
     "name": "stdout",
     "output_type": "stream",
     "text": [
      "Requirement already satisfied: numpy in /Users/aakashjha/Documents/AakashLearning/KrishNayak_LangChain/LearningLangChain/.venv/lib/python3.13/site-packages (2.3.2)\n"
     ]
    }
   ],
   "source": [
    "# Install a package in the notebook\n",
    "!{sys.executable} -m pip install numpy"
   ]
  },
  {
   "cell_type": "code",
   "execution_count": 100,
   "id": "03dfd4d6",
   "metadata": {},
   "outputs": [
    {
     "data": {
      "text/plain": [
       "array([11, 22])"
      ]
     },
     "execution_count": 100,
     "metadata": {},
     "output_type": "execute_result"
    }
   ],
   "source": [
    "# Import with the import keyword\n",
    "import numpy\n",
    "\n",
    "# Make use of the module\n",
    "numpy.array([11,22])"
   ]
  },
  {
   "cell_type": "code",
   "execution_count": 101,
   "id": "9679898b",
   "metadata": {},
   "outputs": [
    {
     "data": {
      "text/plain": [
       "array([11, 22])"
      ]
     },
     "execution_count": 101,
     "metadata": {},
     "output_type": "execute_result"
    }
   ],
   "source": [
    "# Import with different name\n",
    "import numpy as np\n",
    "\n",
    "np.array([11,22])\n",
    "\n",
    "# Or import only a part\n",
    "# from numpy import array\n",
    "# array([11,22])\n",
    "\n",
    "# Submodules can be referenced with a dot (.)"
   ]
  },
  {
   "cell_type": "markdown",
   "id": "8d14e7e9",
   "metadata": {},
   "source": [
    "# Conditions and if-else statement\n",
    "This section introduces conditions and the if-else statement."
   ]
  },
  {
   "cell_type": "code",
   "execution_count": 102,
   "id": "5782e0ce",
   "metadata": {},
   "outputs": [],
   "source": [
    "# Define variables\n",
    "x = 3\n",
    "y = 5\n",
    "z = 7"
   ]
  },
  {
   "cell_type": "code",
   "execution_count": 103,
   "id": "60886fbb",
   "metadata": {},
   "outputs": [
    {
     "data": {
      "text/plain": [
       "False"
      ]
     },
     "execution_count": 103,
     "metadata": {},
     "output_type": "execute_result"
    }
   ],
   "source": [
    "# Equals\n",
    "x == y"
   ]
  },
  {
   "cell_type": "code",
   "execution_count": 104,
   "id": "17acd981",
   "metadata": {},
   "outputs": [
    {
     "name": "stdout",
     "output_type": "stream",
     "text": [
      "True\n"
     ]
    }
   ],
   "source": [
    "# Not equals\n",
    "condition = (x != y)\n",
    "print(condition)"
   ]
  },
  {
   "cell_type": "code",
   "execution_count": 105,
   "id": "95ba787a",
   "metadata": {},
   "outputs": [
    {
     "name": "stdout",
     "output_type": "stream",
     "text": [
      "True\n",
      "True\n",
      "False\n",
      "True\n"
     ]
    }
   ],
   "source": [
    "# Less/Greater than AND less/greater than or equal to\n",
    "print(x < y)\n",
    "print(x <= y - 2)\n",
    "print(x > y)\n",
    "print(x >= y - 2)"
   ]
  },
  {
   "cell_type": "code",
   "execution_count": 106,
   "id": "d5594e79",
   "metadata": {},
   "outputs": [
    {
     "name": "stdout",
     "output_type": "stream",
     "text": [
      "True\n",
      "True\n",
      "False\n"
     ]
    }
   ],
   "source": [
    "# and, or, not - keywords\n",
    "print(x<y and x<z)\n",
    "print(x<y or x>z)\n",
    "print(not x<y)"
   ]
  },
  {
   "cell_type": "markdown",
   "id": "dc620dcf",
   "metadata": {},
   "source": [
    "# If-else statement"
   ]
  },
  {
   "cell_type": "code",
   "execution_count": 107,
   "id": "4c8c6f01",
   "metadata": {},
   "outputs": [
    {
     "name": "stdout",
     "output_type": "stream",
     "text": [
      "y and z are both greater than x\n"
     ]
    }
   ],
   "source": [
    "# If-else statement\n",
    "if x > y:\n",
    "    print('x is greater than y')\n",
    "elif x > z:\n",
    "    print('x is greater than z but not greater than y')\n",
    "else:\n",
    "    print('y and z are both greater than x')"
   ]
  },
  {
   "cell_type": "code",
   "execution_count": 108,
   "id": "01abdcf0",
   "metadata": {},
   "outputs": [
    {
     "name": "stdout",
     "output_type": "stream",
     "text": [
      "x is smaller than y\n",
      "y is greater or equal to x\n"
     ]
    }
   ],
   "source": [
    "# Ternary operators\n",
    "\n",
    "# Short if\n",
    "if x < y: print('x is smaller than y')\n",
    "\n",
    "# Short if-else\n",
    "print('x is greater than y') if x > y else print('y is greater or equal to x')"
   ]
  },
  {
   "cell_type": "markdown",
   "id": "565d2f6d",
   "metadata": {},
   "source": [
    "# Exercise for conditions\n",
    "Create a function is_negative that returns true if the number is smaller than 0 else false. Try both with and without ternary operator."
   ]
  },
  {
   "cell_type": "code",
   "execution_count": 109,
   "id": "90fa1ad9",
   "metadata": {},
   "outputs": [],
   "source": [
    "# Your code goes here\n",
    "def is_negative(num):\n",
    "    if num < 0:\n",
    "        return True\n",
    "    else:\n",
    "        return False"
   ]
  },
  {
   "cell_type": "code",
   "execution_count": 110,
   "id": "f5f30ca9",
   "metadata": {},
   "outputs": [
    {
     "name": "stdout",
     "output_type": "stream",
     "text": [
      "Test passed!\n"
     ]
    }
   ],
   "source": [
    "def test_is_negative():\n",
    "    if is_negative is None:\n",
    "        print(\"Test did not pass! Go implement!\")\n",
    "    else:\n",
    "        assert is_negative(-1) == True\n",
    "        assert is_negative(0) == False\n",
    "        assert is_negative(1) == False\n",
    "        print(\"Test passed!\")\n",
    "\n",
    "test_is_negative()"
   ]
  },
  {
   "cell_type": "markdown",
   "id": "6755dd54",
   "metadata": {},
   "source": [
    "# Loops\n",
    "There are two common loops in Python, the for loop and the while loop. The for statement is used to iterate over iterables (e.g. strings, lists...). The while statement is used for repeating code blocks until a defined condition turns false.\n",
    "\n",
    "This section also introduces the range type and list comprehensions.\n",
    "\n",
    "# Range function"
   ]
  },
  {
   "cell_type": "code",
   "execution_count": 111,
   "id": "e9d582b6",
   "metadata": {},
   "outputs": [
    {
     "name": "stdout",
     "output_type": "stream",
     "text": [
      "<class 'range'>\n"
     ]
    },
    {
     "data": {
      "text/plain": [
       "[3, 5, 7, 9, 11, 13, 15, 17, 19]"
      ]
     },
     "execution_count": 111,
     "metadata": {},
     "output_type": "execute_result"
    }
   ],
   "source": [
    "# Define range that starts at 3 and stops before 20 with a step of 2\n",
    "example_range = range(3,20,2)\n",
    "\n",
    "# Print the type\n",
    "print(type(example_range))\n",
    "\n",
    "# Convert the range into a list\n",
    "list(example_range)"
   ]
  },
  {
   "cell_type": "markdown",
   "id": "172015e7",
   "metadata": {},
   "source": [
    "# for statement"
   ]
  },
  {
   "cell_type": "code",
   "execution_count": 112,
   "id": "368403dc",
   "metadata": {},
   "outputs": [
    {
     "name": "stdout",
     "output_type": "stream",
     "text": [
      "flower\n",
      "tree\n",
      "stone\n"
     ]
    }
   ],
   "source": [
    "# Iterate through a list\n",
    "example_list = ['flower', 'tree', 'stone']\n",
    "for element in example_list:\n",
    "    print(element)"
   ]
  },
  {
   "cell_type": "code",
   "execution_count": 113,
   "id": "e34705d4",
   "metadata": {},
   "outputs": [
    {
     "name": "stdout",
     "output_type": "stream",
     "text": [
      "1\n",
      "3\n",
      "5\n"
     ]
    }
   ],
   "source": [
    "# Iterate using a range\n",
    "for element in range(6):\n",
    "    if element % 2 == True: print(element)"
   ]
  },
  {
   "cell_type": "markdown",
   "id": "0a073144",
   "metadata": {},
   "source": [
    "# while statement"
   ]
  },
  {
   "cell_type": "code",
   "execution_count": 114,
   "id": "8affd5e3",
   "metadata": {},
   "outputs": [
    {
     "name": "stdout",
     "output_type": "stream",
     "text": [
      "4\n",
      "2\n",
      "0\n"
     ]
    }
   ],
   "source": [
    "number = 4\n",
    "while(number>=0):\n",
    "    print(number)\n",
    "    number -= 2"
   ]
  },
  {
   "cell_type": "markdown",
   "id": "be268996",
   "metadata": {},
   "source": [
    "# List comprehensions\n",
    "List comprehension are used to create a new list out of an existing list. An expression and a condition can be used to define the new list. The old list will be unchanged.\n",
    "\n",
    "new_list = [expression for element in iterable if condition]"
   ]
  },
  {
   "cell_type": "code",
   "execution_count": 115,
   "id": "a6ff419e",
   "metadata": {},
   "outputs": [
    {
     "name": "stdout",
     "output_type": "stream",
     "text": [
      "[0, 1, 2]\n",
      "[100, 101]\n"
     ]
    }
   ],
   "source": [
    "old_list = list(range(3))\n",
    "print(old_list)\n",
    "\n",
    "new_list = [element + 100 for element in old_list if element < 2]\n",
    "print(new_list)"
   ]
  },
  {
   "cell_type": "markdown",
   "id": "51a4b507",
   "metadata": {},
   "source": [
    "# Exercises\n",
    "Create a function sum_of_odd_numbers_in_range that takes in a start and end parameter as integers and calculates the sum out of the odd integer values of the range defined by the start and end parameter."
   ]
  },
  {
   "cell_type": "code",
   "execution_count": 118,
   "id": "fa1f0452",
   "metadata": {},
   "outputs": [],
   "source": [
    "# Your code goes here\n",
    "def sum_of_odd_numbers_in_range(start, end):\n",
    "    bracket = range(start, end)\n",
    "    oddsum=0\n",
    "    for num in bracket:\n",
    "        if(num % 2 !=0):\n",
    "            oddsum += num\n",
    "    return oddsum\n",
    "    "
   ]
  },
  {
   "cell_type": "code",
   "execution_count": 119,
   "id": "aa70c922",
   "metadata": {},
   "outputs": [
    {
     "name": "stdout",
     "output_type": "stream",
     "text": [
      "Test passed!\n"
     ]
    }
   ],
   "source": [
    "def test_sum_of_odd_numbers_in_range():\n",
    "    if sum_of_odd_numbers_in_range is None:\n",
    "        print(\"Test did not pass! Go implement!\")\n",
    "    else:\n",
    "        assert sum_of_odd_numbers_in_range(2,4) == 3\n",
    "        assert sum_of_odd_numbers_in_range(-3,4) == 0\n",
    "        assert sum_of_odd_numbers_in_range(-4,2) == -3\n",
    "        print(\"Test passed!\")\n",
    "\n",
    "test_sum_of_odd_numbers_in_range()"
   ]
  },
  {
   "cell_type": "markdown",
   "id": "cd69f995",
   "metadata": {},
   "source": [
    "# Pattern matching\n",
    "For structural pattern matching, the match statement is used in Python, since version 3.10."
   ]
  },
  {
   "cell_type": "code",
   "execution_count": 121,
   "id": "f9f2fddf",
   "metadata": {},
   "outputs": [
    {
     "name": "stdout",
     "output_type": "stream",
     "text": [
      "Status code not known\n"
     ]
    }
   ],
   "source": [
    "status = 300\n",
    "\n",
    "match status:\n",
    "    case 200:\n",
    "        print('OK')\n",
    "    case 500:\n",
    "        print(\"Internal Server Error\")\n",
    "    case _:\n",
    "        print(\"Status code not known\")"
   ]
  },
  {
   "cell_type": "markdown",
   "id": "65cd4b17",
   "metadata": {},
   "source": [
    "# File handling\n",
    "File handling, such as read and write, operations are supported by Python.\n",
    "\n",
    "Before any operation can be performed the open function is used to load in files. A mode has to be specified to define how the file should be used (e.g. r for read and w for write).\n",
    "Other useful functions include read, write and append functions.\n",
    "Use the close function to free up resources immediately if not using the with keyword.\n",
    "With the import of the os module rename (renaming a file) and remove (deleting a file) functions can be used.\n",
    "More on reading and writing files."
   ]
  },
  {
   "cell_type": "code",
   "execution_count": 122,
   "id": "504a20de",
   "metadata": {},
   "outputs": [
    {
     "name": "stdout",
     "output_type": "stream",
     "text": [
      "\n",
      "\n",
      "This is a sample file.\n",
      "\n",
      "There is nothing interesting here.\n",
      "\n",
      "Presentation purpose.\n"
     ]
    }
   ],
   "source": [
    "# If you started jupyter notebook in the src folder you should be able to see a sample.txt file next to the python101.ipynb file in your tree under localhost:<port>/tree\n",
    "\n",
    "# Open a txt file for reading operations\n",
    "file = open(file='sample.txt', mode='r')\n",
    "\n",
    "# Print each line of the file\n",
    "for line in file:\n",
    "    print(line)\n",
    "\n",
    "# Terminate all resources if not using the with keyword (see below)\n",
    "file.close()"
   ]
  },
  {
   "cell_type": "code",
   "execution_count": 123,
   "id": "923d9eda",
   "metadata": {},
   "outputs": [],
   "source": [
    "# Create a file\n",
    "f = open('file.txt','w')\n",
    "\n",
    "f.write(\"Write something. \")\n",
    "f.write(\"Write more into the file. \")\n",
    "\n",
    "f.close()\n",
    "\n",
    "# You should be able to see a new file named file.txt under your tree under localhost:<port>/tree"
   ]
  },
  {
   "cell_type": "code",
   "execution_count": 124,
   "id": "b1e69ed3",
   "metadata": {},
   "outputs": [],
   "source": [
    "# Append to a file\n",
    "f = open('file.txt','a')\n",
    "\n",
    "f.write(\"Append something.\")\n",
    "\n",
    "f.close()\n",
    "\n",
    "# You can check if the file.txt has more content now"
   ]
  },
  {
   "cell_type": "code",
   "execution_count": 125,
   "id": "ccfc8c7f",
   "metadata": {},
   "outputs": [],
   "source": [
    "# Rename a file\n",
    "import os\n",
    "\n",
    "os.rename('file.txt', 'fancy.txt')\n",
    "\n",
    "# You should be able to see that the file previously named file.txt is now fancy.txt under your tree under localhost:<port>/tree"
   ]
  },
  {
   "cell_type": "code",
   "execution_count": 126,
   "id": "6f58394b",
   "metadata": {},
   "outputs": [],
   "source": [
    "# Delete a file\n",
    "os.remove('fancy.txt')\n",
    "\n",
    "# The fancy.txt file should be removed and not visible anymore in your tree"
   ]
  },
  {
   "cell_type": "markdown",
   "id": "d92d213a",
   "metadata": {},
   "source": [
    "# With statement\n",
    "Using the with statement is considered a good practice for file handling. The file is closed and frees up resources after the code block is executed."
   ]
  },
  {
   "cell_type": "code",
   "execution_count": 127,
   "id": "636602cb",
   "metadata": {},
   "outputs": [
    {
     "name": "stdout",
     "output_type": "stream",
     "text": [
      "\n",
      "This is a sample file.\n",
      "There is nothing interesting here.\n",
      "Presentation purpose.\n"
     ]
    }
   ],
   "source": [
    "with open(\"sample.txt\") as file:\n",
    "    text = file.read()\n",
    "\n",
    "print(text)"
   ]
  },
  {
   "cell_type": "code",
   "execution_count": 128,
   "id": "bfdde5e6",
   "metadata": {},
   "outputs": [
    {
     "data": {
      "text/plain": [
       "True"
      ]
     },
     "execution_count": 128,
     "metadata": {},
     "output_type": "execute_result"
    }
   ],
   "source": [
    "# Check if file was closed automatically (no execution of the close function required)\n",
    "file.closed"
   ]
  },
  {
   "cell_type": "markdown",
   "id": "ac2e2ac5",
   "metadata": {},
   "source": [
    "# Try statement\n",
    "The try statement is used to define how exceptions are handled for a group of statements."
   ]
  },
  {
   "cell_type": "code",
   "execution_count": 129,
   "id": "f622c19e",
   "metadata": {},
   "outputs": [
    {
     "name": "stdout",
     "output_type": "stream",
     "text": [
      "[Errno 2] No such file or directory: 'content.txt'\n"
     ]
    }
   ],
   "source": [
    "# Try to read in a file and print the error if not possible\n",
    "try:\n",
    "    with open('content.txt', 'r') as file:\n",
    "        contents = file.read()\n",
    "except IOError as e:\n",
    "    print(e)"
   ]
  },
  {
   "cell_type": "markdown",
   "id": "1f109eb5",
   "metadata": {},
   "source": [
    "# Exercises for file handling\n",
    "Play around by creating (1) a function that creates a txt file and (2) another function that appends more text to the already existing file. (3) Create a function that deletes the file.\n",
    "\n",
    "Use the with keyword and handle exceptions."
   ]
  },
  {
   "cell_type": "code",
   "execution_count": 130,
   "id": "2ed85045",
   "metadata": {},
   "outputs": [],
   "source": [
    "import os\n",
    "\n",
    "# 1. Function to create a file and write initial text\n",
    "def create_file(filename, content):\n",
    "    try:\n",
    "        with open(filename, \"w\") as f:  # \"w\" creates or overwrites\n",
    "            f.write(content)\n",
    "        print(f\"File '{filename}' created successfully.\")\n",
    "    except Exception as e:\n",
    "        print(f\"Error creating file: {e}\")"
   ]
  },
  {
   "cell_type": "code",
   "execution_count": 131,
   "id": "7c1cbb17",
   "metadata": {},
   "outputs": [],
   "source": [
    "# 2. Function to append text to an existing file\n",
    "def append_to_file(filename, content):\n",
    "    try:\n",
    "        with open(filename, \"a\") as f:  # \"a\" = append mode\n",
    "            f.write(\"\\n\" + content)\n",
    "        print(f\"Text appended to '{filename}' successfully.\")\n",
    "    except FileNotFoundError:\n",
    "        print(f\"Error: File '{filename}' does not exist.\")\n",
    "    except Exception as e:\n",
    "        print(f\"Error appending to file: {e}\")"
   ]
  },
  {
   "cell_type": "code",
   "execution_count": 132,
   "id": "6b1da410",
   "metadata": {},
   "outputs": [],
   "source": [
    "# 3. Function to delete a file\n",
    "def delete_file(filename):\n",
    "    try:\n",
    "        if os.path.exists(filename):\n",
    "            os.remove(filename)\n",
    "            print(f\"File '{filename}' deleted successfully.\")\n",
    "        else:\n",
    "            print(f\"File '{filename}' not found.\")\n",
    "    except Exception as e:\n",
    "        print(f\"Error deleting file: {e}\")"
   ]
  },
  {
   "cell_type": "code",
   "execution_count": 133,
   "id": "11bbe074",
   "metadata": {},
   "outputs": [
    {
     "name": "stdout",
     "output_type": "stream",
     "text": [
      "File 'test_file.txt' created successfully.\n",
      "Text appended to 'test_file.txt' successfully.\n",
      "File 'test_file.txt' deleted successfully.\n"
     ]
    }
   ],
   "source": [
    "# -----------------------\n",
    "# Example Usage\n",
    "# -----------------------\n",
    "if __name__ == \"__main__\":\n",
    "    fname = \"test_file.txt\"\n",
    "    \n",
    "    create_file(fname, \"Hello, this is the first line.\")\n",
    "    append_to_file(fname, \"This is an appended line.\")\n",
    "    delete_file(fname)"
   ]
  },
  {
   "cell_type": "markdown",
   "id": "d317f993",
   "metadata": {},
   "source": [
    "# Optional typesystem\n",
    "Python is a dynamically typed language. The actual types are inferred during code execution. The module typing introduces runtime support for type hints. Reference for a typing cheat sheet.\n",
    "\n",
    "Dynamic typing gives a lot of flexibility, which also comes with some drawbacks. Type annotations become more common as they serve as documentation purpose, better error handling etc. Read more about it here. User defined types are possible.\n",
    "\n",
    "It is important to know that the types are annotations and are ignored by the Python interpreter. The potential of type annotations can be used by leveraging type checkers, linters etc."
   ]
  }
 ],
 "metadata": {
  "kernelspec": {
   "display_name": ".venv (3.13.3)",
   "language": "python",
   "name": "python3"
  },
  "language_info": {
   "codemirror_mode": {
    "name": "ipython",
    "version": 3
   },
   "file_extension": ".py",
   "mimetype": "text/x-python",
   "name": "python",
   "nbconvert_exporter": "python",
   "pygments_lexer": "ipython3",
   "version": "3.13.3"
  }
 },
 "nbformat": 4,
 "nbformat_minor": 5
}
