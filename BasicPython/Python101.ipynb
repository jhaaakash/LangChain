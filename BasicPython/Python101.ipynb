{
 "cells": [
  {
   "cell_type": "markdown",
   "id": "70e8bdf5",
   "metadata": {},
   "source": [
    "Python for calculations\n",
    "Short overview of common arithmetic operators."
   ]
  },
  {
   "cell_type": "code",
   "execution_count": 1,
   "id": "a553a94b",
   "metadata": {},
   "outputs": [
    {
     "data": {
      "text/plain": [
       "8"
      ]
     },
     "execution_count": 1,
     "metadata": {},
     "output_type": "execute_result"
    }
   ],
   "source": [
    "# Addition\n",
    "6 + 2"
   ]
  },
  {
   "cell_type": "code",
   "execution_count": 2,
   "id": "db3fb661",
   "metadata": {},
   "outputs": [
    {
     "data": {
      "text/plain": [
       "-1"
      ]
     },
     "execution_count": 2,
     "metadata": {},
     "output_type": "execute_result"
    }
   ],
   "source": [
    "\n",
    "# Subtraction\n",
    "3 - 4"
   ]
  },
  {
   "cell_type": "code",
   "execution_count": 3,
   "id": "d41c8cfc",
   "metadata": {},
   "outputs": [
    {
     "data": {
      "text/plain": [
       "0.75"
      ]
     },
     "execution_count": 3,
     "metadata": {},
     "output_type": "execute_result"
    }
   ],
   "source": [
    "# Division\n",
    "3 / 4"
   ]
  },
  {
   "cell_type": "code",
   "execution_count": 4,
   "id": "d776a8c7",
   "metadata": {},
   "outputs": [
    {
     "data": {
      "text/plain": [
       "1"
      ]
     },
     "execution_count": 4,
     "metadata": {},
     "output_type": "execute_result"
    }
   ],
   "source": [
    "# Modulo\n",
    "9 % 2"
   ]
  },
  {
   "cell_type": "code",
   "execution_count": 5,
   "id": "ed284bf6",
   "metadata": {},
   "outputs": [
    {
     "data": {
      "text/plain": [
       "81"
      ]
     },
     "execution_count": 5,
     "metadata": {},
     "output_type": "execute_result"
    }
   ],
   "source": [
    "# Exponentiation\n",
    "9 ** 2"
   ]
  },
  {
   "cell_type": "markdown",
   "id": "32fb5df5",
   "metadata": {},
   "source": [
    "Variables\n",
    "\n",
    "\n",
    "Variable names in Python (1) start with letter or underscore, (2) cannot start with a number, (3) only contain alphanumeric characters and underscores, and (4) are case-sensitive."
   ]
  },
  {
   "cell_type": "code",
   "execution_count": 6,
   "id": "ba4bf17b",
   "metadata": {},
   "outputs": [
    {
     "data": {
      "text/plain": [
       "0"
      ]
     },
     "execution_count": 6,
     "metadata": {},
     "output_type": "execute_result"
    }
   ],
   "source": [
    "# Assign a value to a variable\n",
    "count = 0\n",
    "count"
   ]
  },
  {
   "cell_type": "code",
   "execution_count": 8,
   "id": "d0733abd",
   "metadata": {},
   "outputs": [
    {
     "data": {
      "text/plain": [
       "2"
      ]
     },
     "execution_count": 8,
     "metadata": {},
     "output_type": "execute_result"
    }
   ],
   "source": [
    "# Use of assignment operators\n",
    "count += 1 # same as count = count + 1\n",
    "count"
   ]
  },
  {
   "cell_type": "code",
   "execution_count": null,
   "id": "9a82d272",
   "metadata": {},
   "outputs": [],
   "source": [
    "# Multiple assignments in one line, calculating with variables\n",
    "triangle_base, triangle_height = 5, 6\n",
    "triangle_area = 0.5 * triangle_base * triangle_height\n",
    "triangle_area"
   ]
  }
 ],
 "metadata": {
  "kernelspec": {
   "display_name": ".venv (3.13.3)",
   "language": "python",
   "name": "python3"
  },
  "language_info": {
   "codemirror_mode": {
    "name": "ipython",
    "version": 3
   },
   "file_extension": ".py",
   "mimetype": "text/x-python",
   "name": "python",
   "nbconvert_exporter": "python",
   "pygments_lexer": "ipython3",
   "version": "3.13.3"
  }
 },
 "nbformat": 4,
 "nbformat_minor": 5
}
